{
 "cells": [
  {
   "cell_type": "markdown",
   "metadata": {},
   "source": [
    "# Table of contents\n",
    "* [1. Natural Language Processing](#section1)\n",
    "    * [1.1 Description](#section1.1)\n",
    "    * [1.2 Features](#section1.2)\n",
    "        * [1.2.1 Top 50 Features by frequency](#section1.2.1)\n",
    "    * [1.3 Address](#section1.3)\n",
    "* [2. Geographic Data](#section2)\n",
    "    * [2.1 Counties](#section2.1)\n",
    "    * [2.2 Postal Codes](#section2.2)\n",
    "    * [2.3 Boroughs](#section2.3)\n",
    "    * [2.4 Neighborhoods](#section2.4)\n",
    "* [3. Parks and subways](#section3)\n",
    "* [4. Managers](#section4)\n",
    "* [5. Interactions](#section5)\n",
    "* [6. Transforming 'price'](#section6)\n",
    "* [7. Finalizing the data and preparation for modeling](#section7)\n",
    "\n",
    "    \n"
   ]
  },
  {
   "cell_type": "markdown",
   "metadata": {
    "papermill": {
     "duration": 0.050352,
     "end_time": "2021-01-15T21:25:21.484596",
     "exception": false,
     "start_time": "2021-01-15T21:25:21.434244",
     "status": "completed"
    },
    "tags": []
   },
   "source": [
    "## Importing modules & data"
   ]
  },
  {
   "cell_type": "code",
   "execution_count": 1,
   "metadata": {
    "_cell_guid": "b1076dfc-b9ad-4769-8c92-a6c4dae69d19",
    "_uuid": "8f2839f25d086af736a60e9eeb907d3b93b6e0e5",
    "execution": {
     "iopub.execute_input": "2021-01-15T21:25:21.582936Z",
     "iopub.status.busy": "2021-01-15T21:25:21.581957Z",
     "iopub.status.idle": "2021-01-15T21:25:23.999744Z",
     "shell.execute_reply": "2021-01-15T21:25:23.999092Z"
    },
    "papermill": {
     "duration": 2.467282,
     "end_time": "2021-01-15T21:25:23.999885",
     "exception": false,
     "start_time": "2021-01-15T21:25:21.532603",
     "status": "completed"
    },
    "tags": []
   },
   "outputs": [
    {
     "name": "stderr",
     "output_type": "stream",
     "text": [
      "C:\\Users\\Annelie Schridde\\anaconda3\\lib\\site-packages\\tqdm\\std.py:658: FutureWarning: The Panel class is removed from pandas. Accessing it from the top-level namespace will also be removed in the next version\n",
      "  from pandas import Panel\n",
      "C:\\Users\\Annelie Schridde\\anaconda3\\lib\\site-packages\\fuzzywuzzy\\fuzz.py:11: UserWarning: Using slow pure-python SequenceMatcher. Install python-Levenshtein to remove this warning\n",
      "  warnings.warn('Using slow pure-python SequenceMatcher. Install python-Levenshtein to remove this warning')\n"
     ]
    }
   ],
   "source": [
    "# Standard modules\n",
    "import pandas as pd\n",
    "import numpy as np\n",
    "import matplotlib.pyplot as plt\n",
    "import seaborn as sns\n",
    "color = sns.color_palette()\n",
    "from mpl_toolkits.mplot3d import axes3d\n",
    "pd.options.mode.chained_assignment = None\n",
    "%matplotlib inline\n",
    "\n",
    "# progress bar for pandas\n",
    "from tqdm.auto import tqdm\n",
    "tqdm.pandas() \n",
    "\n",
    "# NLP\n",
    "import nltk\n",
    "from nltk.tokenize import word_tokenize\n",
    "from nltk.corpus import stopwords\n",
    "#nltk.download('stopwords')\n",
    "stopWords = set(stopwords.words('english'))\n",
    "from nltk.stem import WordNetLemmatizer\n",
    "from nltk.corpus import wordnet\n",
    "from nltk.tag import pos_tag\n",
    "from bs4 import BeautifulSoup\n",
    "#nltk.download('wordnet')\n",
    "import re\n",
    "from scipy.spatial.distance import cdist # for distances\n",
    "from fuzzywuzzy import fuzz\n",
    "from scipy import sparse\n",
    "\n",
    "# Modeling\n",
    "from sklearn.model_selection import train_test_split\n",
    "import scipy\n",
    "from sklearn.preprocessing import scale\n",
    "import sklearn.linear_model as skl_lm\n",
    "from sklearn.metrics import mean_squared_error, r2_score\n",
    "import statsmodels.api as sm\n",
    "import statsmodels.formula.api as smf\n",
    "from sklearn.model_selection import GridSearchCV\n",
    "from sklearn.ensemble import RandomForestClassifier\n",
    "from sklearn import preprocessing"
   ]
  },
  {
   "cell_type": "code",
   "execution_count": 58,
   "metadata": {
    "execution": {
     "iopub.execute_input": "2021-01-15T21:25:24.077232Z",
     "iopub.status.busy": "2021-01-15T21:25:24.076512Z",
     "iopub.status.idle": "2021-01-15T21:25:27.0819Z",
     "shell.execute_reply": "2021-01-15T21:25:27.082485Z"
    },
    "papermill": {
     "duration": 3.046664,
     "end_time": "2021-01-15T21:25:27.082648",
     "exception": false,
     "start_time": "2021-01-15T21:25:24.035984",
     "status": "completed"
    },
    "tags": []
   },
   "outputs": [
    {
     "data": {
      "text/html": [
       "<div>\n",
       "<style scoped>\n",
       "    .dataframe tbody tr th:only-of-type {\n",
       "        vertical-align: middle;\n",
       "    }\n",
       "\n",
       "    .dataframe tbody tr th {\n",
       "        vertical-align: top;\n",
       "    }\n",
       "\n",
       "    .dataframe thead th {\n",
       "        text-align: right;\n",
       "    }\n",
       "</style>\n",
       "<table border=\"1\" class=\"dataframe\">\n",
       "  <thead>\n",
       "    <tr style=\"text-align: right;\">\n",
       "      <th></th>\n",
       "      <th>bathrooms</th>\n",
       "      <th>bedrooms</th>\n",
       "      <th>building_id</th>\n",
       "      <th>created</th>\n",
       "      <th>description</th>\n",
       "      <th>display_address</th>\n",
       "      <th>features</th>\n",
       "      <th>latitude</th>\n",
       "      <th>listing_id</th>\n",
       "      <th>longitude</th>\n",
       "      <th>...</th>\n",
       "      <th>interest_level</th>\n",
       "      <th>num_photos</th>\n",
       "      <th>num_features</th>\n",
       "      <th>high_priced</th>\n",
       "      <th>date_created</th>\n",
       "      <th>date_converted</th>\n",
       "      <th>weekday</th>\n",
       "      <th>hour_created</th>\n",
       "      <th>month</th>\n",
       "      <th>dayofmonth</th>\n",
       "    </tr>\n",
       "  </thead>\n",
       "  <tbody>\n",
       "    <tr>\n",
       "      <th>4</th>\n",
       "      <td>1.0</td>\n",
       "      <td>1</td>\n",
       "      <td>8579a0b0d54db803821a35a4a615e97a</td>\n",
       "      <td>1466056527000</td>\n",
       "      <td>Spacious 1 Bedroom 1 Bathroom in Williamsburg!...</td>\n",
       "      <td>145 Borinquen Place</td>\n",
       "      <td>[Dining Room, Pre-War, Laundry in Building, Di...</td>\n",
       "      <td>40.7108</td>\n",
       "      <td>7170325</td>\n",
       "      <td>-73.9539</td>\n",
       "      <td>...</td>\n",
       "      <td>medium</td>\n",
       "      <td>12</td>\n",
       "      <td>7</td>\n",
       "      <td>0</td>\n",
       "      <td>1466035200000</td>\n",
       "      <td>1466056527000</td>\n",
       "      <td>Thursday</td>\n",
       "      <td>5</td>\n",
       "      <td>6</td>\n",
       "      <td>16</td>\n",
       "    </tr>\n",
       "    <tr>\n",
       "      <th>6</th>\n",
       "      <td>1.0</td>\n",
       "      <td>2</td>\n",
       "      <td>b8e75fc949a6cd8225b455648a951712</td>\n",
       "      <td>1464759873000</td>\n",
       "      <td>BRAND NEW GUT RENOVATED TRUE 2 BEDROOMFind you...</td>\n",
       "      <td>East 44th</td>\n",
       "      <td>[Doorman, Elevator, Laundry in Building, Dishw...</td>\n",
       "      <td>40.7513</td>\n",
       "      <td>7092344</td>\n",
       "      <td>-73.9722</td>\n",
       "      <td>...</td>\n",
       "      <td>low</td>\n",
       "      <td>6</td>\n",
       "      <td>6</td>\n",
       "      <td>0</td>\n",
       "      <td>1464739200000</td>\n",
       "      <td>1464759873000</td>\n",
       "      <td>Wednesday</td>\n",
       "      <td>5</td>\n",
       "      <td>6</td>\n",
       "      <td>1</td>\n",
       "    </tr>\n",
       "    <tr>\n",
       "      <th>9</th>\n",
       "      <td>1.0</td>\n",
       "      <td>2</td>\n",
       "      <td>cd759a988b8f23924b5a2058d5ab2b49</td>\n",
       "      <td>1465917599000</td>\n",
       "      <td>**FLEX 2 BEDROOM WITH FULL PRESSURIZED WALL**L...</td>\n",
       "      <td>East 56th Street</td>\n",
       "      <td>[Doorman, Elevator, Laundry in Building, Laund...</td>\n",
       "      <td>40.7575</td>\n",
       "      <td>7158677</td>\n",
       "      <td>-73.9625</td>\n",
       "      <td>...</td>\n",
       "      <td>medium</td>\n",
       "      <td>6</td>\n",
       "      <td>6</td>\n",
       "      <td>0</td>\n",
       "      <td>1465862400000</td>\n",
       "      <td>1465917599000</td>\n",
       "      <td>Tuesday</td>\n",
       "      <td>15</td>\n",
       "      <td>6</td>\n",
       "      <td>14</td>\n",
       "    </tr>\n",
       "  </tbody>\n",
       "</table>\n",
       "<p>3 rows × 24 columns</p>\n",
       "</div>"
      ],
      "text/plain": [
       "   bathrooms  bedrooms                       building_id        created  \\\n",
       "4        1.0         1  8579a0b0d54db803821a35a4a615e97a  1466056527000   \n",
       "6        1.0         2  b8e75fc949a6cd8225b455648a951712  1464759873000   \n",
       "9        1.0         2  cd759a988b8f23924b5a2058d5ab2b49  1465917599000   \n",
       "\n",
       "                                         description      display_address  \\\n",
       "4  Spacious 1 Bedroom 1 Bathroom in Williamsburg!...  145 Borinquen Place   \n",
       "6  BRAND NEW GUT RENOVATED TRUE 2 BEDROOMFind you...            East 44th   \n",
       "9  **FLEX 2 BEDROOM WITH FULL PRESSURIZED WALL**L...     East 56th Street   \n",
       "\n",
       "                                            features  latitude  listing_id  \\\n",
       "4  [Dining Room, Pre-War, Laundry in Building, Di...   40.7108     7170325   \n",
       "6  [Doorman, Elevator, Laundry in Building, Dishw...   40.7513     7092344   \n",
       "9  [Doorman, Elevator, Laundry in Building, Laund...   40.7575     7158677   \n",
       "\n",
       "   longitude  ... interest_level num_photos  num_features high_priced  \\\n",
       "4   -73.9539  ...         medium         12             7           0   \n",
       "6   -73.9722  ...            low          6             6           0   \n",
       "9   -73.9625  ...         medium          6             6           0   \n",
       "\n",
       "    date_created  date_converted    weekday  hour_created  month  dayofmonth  \n",
       "4  1466035200000   1466056527000   Thursday             5      6          16  \n",
       "6  1464739200000   1464759873000  Wednesday             5      6           1  \n",
       "9  1465862400000   1465917599000    Tuesday            15      6          14  \n",
       "\n",
       "[3 rows x 24 columns]"
      ]
     },
     "execution_count": 58,
     "metadata": {},
     "output_type": "execute_result"
    }
   ],
   "source": [
    "df = pd.read_json(r\"C:\\Users\\Annelie Schridde\\Documents\\DS Project\\cleaned_data.json\")\n",
    "df.head(3)"
   ]
  },
  {
   "cell_type": "markdown",
   "metadata": {
    "papermill": {
     "duration": 0.06721,
     "end_time": "2021-01-15T21:27:31.718483",
     "exception": false,
     "start_time": "2021-01-15T21:27:31.651273",
     "status": "completed"
    },
    "tags": []
   },
   "source": [
    "# Feature Engineering"
   ]
  },
  {
   "cell_type": "markdown",
   "metadata": {},
   "source": [
    "We now proceed with the more creative part. In the following sections we will discuss some ideas for features that we can extract from the already existing columns or possibilities how to transform these. The following sections cover as an example natural language processing and processing of geographic data. At some points we looked into the out-of-bag score to derive if we go with our ideas into the right direction. The following sections include ideas that were partly derived from other Kaggle notebooks as well as own implemented ideas.  "
   ]
  },
  {
   "cell_type": "markdown",
   "metadata": {},
   "source": [
    "<a id='section1'></a>"
   ]
  },
  {
   "cell_type": "markdown",
   "metadata": {},
   "source": [
    "## 1. **Natural Language Processing**"
   ]
  },
  {
   "cell_type": "markdown",
   "metadata": {},
   "source": [
    "The columns 'features', 'description' and 'photos' can be identified as categorical variables. First, we should try to extract the number of list objects and photos out of these columns. This, we have already done in the EDA. Therefore we need to apply the length also for the description."
   ]
  },
  {
   "cell_type": "code",
   "execution_count": 59,
   "metadata": {},
   "outputs": [],
   "source": [
    "#changing photos, description and feature to numerical\n",
    "df['num_description'] = df['description'].apply(lambda x: len(x))"
   ]
  },
  {
   "cell_type": "markdown",
   "metadata": {},
   "source": [
    "<a id='section1.1'></a>"
   ]
  },
  {
   "cell_type": "markdown",
   "metadata": {},
   "source": [
    "### 1.1 Description"
   ]
  },
  {
   "cell_type": "markdown",
   "metadata": {},
   "source": [
    "But let's have a look at the description column again. Here we do not have a list of words, but a whole string.  Looking closely, we can identify there are not only words but also non alphabetical values and probably html code as seen.  As these do not really contribute to the description we might think of excluding them, so that only the words are in the string at last. For this would also need to exclude punctuation. \n",
    "Another point is that in the English language are general words that have no true value such as \"and\" and \"the\". These are called stop words and should maybe also removed from the actual description leaving the output only with the main aspects of the description."
   ]
  },
  {
   "cell_type": "code",
   "execution_count": 60,
   "metadata": {},
   "outputs": [
    {
     "data": {
      "text/plain": [
       "\"3RD FLOOR UNIT IS BRIGHT, QUIET, AND AND SIMPLY A GOOD FIND; GREAT SHARE OR FOR SMALL FAMILY;  SEE ASAP AND CREATE YOU SUMMER MOVE-IN NYC HOME ON THIS CUTE BLOCK CLOSE TO RIVERSIDE PARK, CENTRAL PARK, MORNING SIDE PARK, COLUMBIA, WITH GREAT MARKETS AND CAFES NEARBY;  DON'T HESITATE TO VIEW AND SECURE;  call/text to see and secure with preferred rate available before 6.23.16  --   378-429-2492 Edward<br /><br /><br /><br /><br /><br /><p><a  website_redacted \""
      ]
     },
     "execution_count": 60,
     "metadata": {},
     "output_type": "execute_result"
    }
   ],
   "source": [
    "df['description'][35101]"
   ]
  },
  {
   "cell_type": "markdown",
   "metadata": {},
   "source": [
    "From this example we can also see that obviously some of the websites were redacted. Maybe we can put this information as a dummy for our model since re-edited websites might have an influence of the perception of an inquiery. "
   ]
  },
  {
   "cell_type": "code",
   "execution_count": 61,
   "metadata": {},
   "outputs": [],
   "source": [
    "# is the description redacted by the website?        \n",
    "df['num_redacted'] = df['description'].apply(lambda x: 1 if 'website_redacted' in x else 0 )\n"
   ]
  },
  {
   "cell_type": "markdown",
   "metadata": {},
   "source": [
    "Now we should go back to our main idea. We should think of how to exclude of the unecessary signs and words. There are several packages that come in handy when processing text data. In the following, different functions were used to clean the description data. "
   ]
  },
  {
   "cell_type": "code",
   "execution_count": 62,
   "metadata": {},
   "outputs": [],
   "source": [
    "# stop words\n",
    "def remove_stop(text):\n",
    "    words = [w for w in text if w.lower() not in stopwords.words('english')]\n",
    "    return words"
   ]
  },
  {
   "cell_type": "code",
   "execution_count": 63,
   "metadata": {},
   "outputs": [],
   "source": [
    "# Non-alphabetic characters\n",
    "def remove_nonalpha(text):\n",
    "    no_alpha = re.sub(\"[^a-zA-Z]\",\" \", str(text))\n",
    "    return no_alpha"
   ]
  },
  {
   "cell_type": "code",
   "execution_count": 64,
   "metadata": {},
   "outputs": [],
   "source": [
    "# Punctuation\n",
    "import string\n",
    "def remove_punct(text):\n",
    "    no_punct = \"\".join([c for c in text if c not in string.punctuation])\n",
    "    return no_punct"
   ]
  },
  {
   "cell_type": "code",
   "execution_count": 65,
   "metadata": {},
   "outputs": [],
   "source": [
    "# Html\n",
    "def remove_html(text):\n",
    "    soup = BeautifulSoup(text, 'lxml')\n",
    "    html_free = soup.get_text()\n",
    "    return html_free"
   ]
  },
  {
   "cell_type": "code",
   "execution_count": 66,
   "metadata": {},
   "outputs": [],
   "source": [
    "# Tokenize ---->  seperate words within string\n",
    "from nltk.tokenize import RegexpTokenizer\n",
    "tokenizer = RegexpTokenizer(r'\\w+')"
   ]
  },
  {
   "cell_type": "code",
   "execution_count": 67,
   "metadata": {},
   "outputs": [],
   "source": [
    "# Lemmatizing  ---> used for finding word stem (e.g. eaten becomes eat)\n",
    "lemmatizer = WordNetLemmatizer()\n",
    "\n",
    "def word_lemma(text):\n",
    "    lem_text = [lemmatizer.lemmatize(i) for i in text]\n",
    "    return lem_text"
   ]
  },
  {
   "cell_type": "markdown",
   "metadata": {},
   "source": [
    "### WARNING! Takes long to run!"
   ]
  },
  {
   "cell_type": "markdown",
   "metadata": {},
   "source": [
    "Let us apply these functions to finally clean the data and then look at the description again."
   ]
  },
  {
   "cell_type": "code",
   "execution_count": 68,
   "metadata": {},
   "outputs": [
    {
     "name": "stderr",
     "output_type": "stream",
     "text": [
      "C:\\Users\\Annelie Schridde\\anaconda3\\lib\\site-packages\\bs4\\__init__.py:314: UserWarning: \"b'.'\" looks like a filename, not markup. You should probably open this file and pass the filehandle into Beautiful Soup.\n",
      "  ' Beautiful Soup.' % markup)\n"
     ]
    }
   ],
   "source": [
    "\n",
    "df['cleaned_description'] = df['description'].apply(lambda x: remove_html(x))\n",
    "df['cleaned_description'] = df['cleaned_description'].apply(lambda x: remove_nonalpha(x))\n",
    "df['cleaned_description'] = df['cleaned_description'].apply(lambda x: remove_punct(x))\n",
    "df['cleaned_description'] = df['cleaned_description'].apply(lambda x: tokenizer.tokenize(x.lower()))\n",
    "df['cleaned_description'] = df['cleaned_description'].apply(lambda x: remove_stop(x)) # remove stop words\n",
    "df['cleaned_description']= df['cleaned_description'].apply(lambda x: word_lemma(x))"
   ]
  },
  {
   "cell_type": "markdown",
   "metadata": {},
   "source": [
    "From now we cleaned the actual description to only count the actual words that are of interest. In the following output we can see that we succesfully removed everything unecessary and are left with the main words of the description. Unfortunately, some words like \"3rd\" were reduced to \"rd\". But since these are more or less exceptions, we do not exclude them any further. "
   ]
  },
  {
   "cell_type": "code",
   "execution_count": 69,
   "metadata": {},
   "outputs": [
    {
     "data": {
      "text/plain": [
       "['rd',\n",
       " 'floor',\n",
       " 'unit',\n",
       " 'bright',\n",
       " 'quiet',\n",
       " 'simply',\n",
       " 'good',\n",
       " 'find',\n",
       " 'great',\n",
       " 'share',\n",
       " 'small',\n",
       " 'family',\n",
       " 'see',\n",
       " 'asap',\n",
       " 'create',\n",
       " 'summer',\n",
       " 'move',\n",
       " 'nyc',\n",
       " 'home',\n",
       " 'cute',\n",
       " 'block',\n",
       " 'close',\n",
       " 'riverside',\n",
       " 'park',\n",
       " 'central',\n",
       " 'park',\n",
       " 'morning',\n",
       " 'side',\n",
       " 'park',\n",
       " 'columbia',\n",
       " 'great',\n",
       " 'market',\n",
       " 'cafe',\n",
       " 'nearby',\n",
       " 'hesitate',\n",
       " 'view',\n",
       " 'secure',\n",
       " 'call',\n",
       " 'text',\n",
       " 'see',\n",
       " 'secure',\n",
       " 'preferred',\n",
       " 'rate',\n",
       " 'available',\n",
       " 'edward']"
      ]
     },
     "execution_count": 69,
     "metadata": {},
     "output_type": "execute_result"
    }
   ],
   "source": [
    "df['cleaned_description'][35101]"
   ]
  },
  {
   "cell_type": "markdown",
   "metadata": {},
   "source": [
    "Let us apply the length of the cleaned description."
   ]
  },
  {
   "cell_type": "code",
   "execution_count": 227,
   "metadata": {},
   "outputs": [],
   "source": [
    "df['len_cleaned_description'] = df['cleaned_description'].apply(lambda x: len(x))"
   ]
  },
  {
   "cell_type": "markdown",
   "metadata": {},
   "source": [
    "From the description we can also extract the information whether a person from renthop left their phone number or e-mail adress. As this might enhance the chance that someone is willing to rent because it seems more trustworthy and direct contact is possible, we will include these features as dummies. "
   ]
  },
  {
   "cell_type": "code",
   "execution_count": 71,
   "metadata": {},
   "outputs": [],
   "source": [
    "df['phone'] = df['description'].apply(lambda x:re.sub('['+string.punctuation+']', '', x).split())\\\n",
    "        .apply(lambda x: [s for s in x if s.isdigit()])\\\n",
    "        .apply(lambda x: len([s for s in x if len(str(s))==10]))\\\n",
    "        .apply(lambda x: 1 if x > 0 else 0)\n",
    "df['email'] = df['description'].apply(lambda x: 1 if '@renthop.com' in x else 0)\n"
   ]
  },
  {
   "cell_type": "markdown",
   "metadata": {},
   "source": [
    "<a id='section1.2'></a>"
   ]
  },
  {
   "cell_type": "markdown",
   "metadata": {},
   "source": [
    "### 1.2 **Features**"
   ]
  },
  {
   "cell_type": "markdown",
   "metadata": {},
   "source": [
    "Let's also look at the features column. Here we have a list of objects. These objects are strings, for example 'cats allowed'. "
   ]
  },
  {
   "cell_type": "code",
   "execution_count": 72,
   "metadata": {},
   "outputs": [
    {
     "data": {
      "text/plain": [
       "['Pre-War', 'Dogs Allowed', 'Cats Allowed']"
      ]
     },
     "execution_count": 72,
     "metadata": {},
     "output_type": "execute_result"
    }
   ],
   "source": [
    "df['features'][600]"
   ]
  },
  {
   "cell_type": "markdown",
   "metadata": {},
   "source": [
    "Since there are words are not spelled in the same way, we need to clean the language. For this we created a loop that runs over every row and each element of the list of the row. It will then only allow lower case words. \n",
    "As an example 'Prewar' and 'prewar' will become automatically the same. "
   ]
  },
  {
   "cell_type": "code",
   "execution_count": 73,
   "metadata": {},
   "outputs": [
    {
     "data": {
      "text/html": [
       "<div>\n",
       "<style scoped>\n",
       "    .dataframe tbody tr th:only-of-type {\n",
       "        vertical-align: middle;\n",
       "    }\n",
       "\n",
       "    .dataframe tbody tr th {\n",
       "        vertical-align: top;\n",
       "    }\n",
       "\n",
       "    .dataframe thead th {\n",
       "        text-align: right;\n",
       "    }\n",
       "</style>\n",
       "<table border=\"1\" class=\"dataframe\">\n",
       "  <thead>\n",
       "    <tr style=\"text-align: right;\">\n",
       "      <th></th>\n",
       "      <th>features</th>\n",
       "      <th>features_lower</th>\n",
       "    </tr>\n",
       "  </thead>\n",
       "  <tbody>\n",
       "    <tr>\n",
       "      <th>4</th>\n",
       "      <td>[Dining Room, Pre-War, Laundry in Building, Di...</td>\n",
       "      <td>[dining room, pre-war, laundry in building, di...</td>\n",
       "    </tr>\n",
       "    <tr>\n",
       "      <th>6</th>\n",
       "      <td>[Doorman, Elevator, Laundry in Building, Dishw...</td>\n",
       "      <td>[doorman, elevator, laundry in building, dishw...</td>\n",
       "    </tr>\n",
       "    <tr>\n",
       "      <th>9</th>\n",
       "      <td>[Doorman, Elevator, Laundry in Building, Laund...</td>\n",
       "      <td>[doorman, elevator, laundry in building, laund...</td>\n",
       "    </tr>\n",
       "    <tr>\n",
       "      <th>10</th>\n",
       "      <td>[]</td>\n",
       "      <td>[]</td>\n",
       "    </tr>\n",
       "    <tr>\n",
       "      <th>15</th>\n",
       "      <td>[Doorman, Elevator, Fitness Center, Laundry in...</td>\n",
       "      <td>[doorman, elevator, fitness center, laundry in...</td>\n",
       "    </tr>\n",
       "    <tr>\n",
       "      <th>...</th>\n",
       "      <td>...</td>\n",
       "      <td>...</td>\n",
       "    </tr>\n",
       "    <tr>\n",
       "      <th>124000</th>\n",
       "      <td>[Elevator, Dishwasher, Hardwood Floors]</td>\n",
       "      <td>[elevator, dishwasher, hardwood floors]</td>\n",
       "    </tr>\n",
       "    <tr>\n",
       "      <th>124002</th>\n",
       "      <td>[Common Outdoor Space, Cats Allowed, Dogs Allo...</td>\n",
       "      <td>[common outdoor space, cats allowed, dogs allo...</td>\n",
       "    </tr>\n",
       "    <tr>\n",
       "      <th>124004</th>\n",
       "      <td>[Dining Room, Elevator, Pre-War, Laundry in Bu...</td>\n",
       "      <td>[dining room, elevator, pre-war, laundry in bu...</td>\n",
       "    </tr>\n",
       "    <tr>\n",
       "      <th>124008</th>\n",
       "      <td>[Pre-War, Laundry in Unit, Dishwasher, No Fee,...</td>\n",
       "      <td>[pre-war, laundry in unit, dishwasher, no fee,...</td>\n",
       "    </tr>\n",
       "    <tr>\n",
       "      <th>124009</th>\n",
       "      <td>[Dining Room, Elevator, Laundry in Building, D...</td>\n",
       "      <td>[dining room, elevator, laundry in building, d...</td>\n",
       "    </tr>\n",
       "  </tbody>\n",
       "</table>\n",
       "<p>49352 rows × 2 columns</p>\n",
       "</div>"
      ],
      "text/plain": [
       "                                                 features  \\\n",
       "4       [Dining Room, Pre-War, Laundry in Building, Di...   \n",
       "6       [Doorman, Elevator, Laundry in Building, Dishw...   \n",
       "9       [Doorman, Elevator, Laundry in Building, Laund...   \n",
       "10                                                     []   \n",
       "15      [Doorman, Elevator, Fitness Center, Laundry in...   \n",
       "...                                                   ...   \n",
       "124000            [Elevator, Dishwasher, Hardwood Floors]   \n",
       "124002  [Common Outdoor Space, Cats Allowed, Dogs Allo...   \n",
       "124004  [Dining Room, Elevator, Pre-War, Laundry in Bu...   \n",
       "124008  [Pre-War, Laundry in Unit, Dishwasher, No Fee,...   \n",
       "124009  [Dining Room, Elevator, Laundry in Building, D...   \n",
       "\n",
       "                                           features_lower  \n",
       "4       [dining room, pre-war, laundry in building, di...  \n",
       "6       [doorman, elevator, laundry in building, dishw...  \n",
       "9       [doorman, elevator, laundry in building, laund...  \n",
       "10                                                     []  \n",
       "15      [doorman, elevator, fitness center, laundry in...  \n",
       "...                                                   ...  \n",
       "124000            [elevator, dishwasher, hardwood floors]  \n",
       "124002  [common outdoor space, cats allowed, dogs allo...  \n",
       "124004  [dining room, elevator, pre-war, laundry in bu...  \n",
       "124008  [pre-war, laundry in unit, dishwasher, no fee,...  \n",
       "124009  [dining room, elevator, laundry in building, d...  \n",
       "\n",
       "[49352 rows x 2 columns]"
      ]
     },
     "execution_count": 73,
     "metadata": {},
     "output_type": "execute_result"
    }
   ],
   "source": [
    "df['features_lower'] = 0\n",
    "for row in df.index:\n",
    "    list = []\n",
    "    for i in range(len(df['features'][row])):\n",
    "        string = ((df['features'][row][i]).lower()) #each element in list of particular row\n",
    "        list.append(string)\n",
    "    df['features_lower'][row] = list\n",
    "    \n",
    "\n",
    "\n",
    "df[['features','features_lower']]"
   ]
  },
  {
   "cell_type": "markdown",
   "metadata": {},
   "source": [
    "Now we have every string in lower case. But unfortunately, there is not only 'prewar' but also 'pre-war' with a hyphen. Also we want every feature to be bound by a \"_\" to indicate that this is one feature and we can use it for further processing. We, again, created a loop that goes over every row but also every instance within the list per row to transform the instances."
   ]
  },
  {
   "cell_type": "code",
   "execution_count": 74,
   "metadata": {},
   "outputs": [],
   "source": [
    "df['cleaned_features'] = 0\n",
    "\n",
    "for row in df.index:\n",
    "    ls_feature = []\n",
    "    for i in range(len(df['features_lower'][row])):\n",
    "        if \" \" in df['features_lower'][row][i]:\n",
    "            new = \"_\".join(df['features_lower'][row][i].split(\" \"))\n",
    "            ls_feature.append(new)\n",
    "        elif \"-\" in df['features_lower'][row][i]:\n",
    "            new = \"_\".join(df['features_lower'][row][i].split(\"-\"))\n",
    "            ls_feature.append(new)\n",
    "        else:\n",
    "            new = df['features_lower'][row][i]\n",
    "            ls_feature.append(new)\n",
    "        \n",
    "    df['cleaned_features'][row] = ls_feature"
   ]
  },
  {
   "cell_type": "code",
   "execution_count": 75,
   "metadata": {},
   "outputs": [
    {
     "data": {
      "text/plain": [
       "4         [dining_room, pre_war, laundry_in_building, di...\n",
       "6         [doorman, elevator, laundry_in_building, dishw...\n",
       "9         [doorman, elevator, laundry_in_building, laund...\n",
       "10                                                       []\n",
       "15        [doorman, elevator, fitness_center, laundry_in...\n",
       "                                ...                        \n",
       "124000              [elevator, dishwasher, hardwood_floors]\n",
       "124002    [common_outdoor_space, cats_allowed, dogs_allo...\n",
       "124004    [dining_room, elevator, pre_war, laundry_in_bu...\n",
       "124008    [pre_war, laundry_in_unit, dishwasher, no_fee,...\n",
       "124009    [dining_room, elevator, laundry_in_building, d...\n",
       "Name: cleaned_features, Length: 49352, dtype: object"
      ]
     },
     "execution_count": 75,
     "metadata": {},
     "output_type": "execute_result"
    }
   ],
   "source": [
    "df[\"cleaned_features\"]"
   ]
  },
  {
   "cell_type": "code",
   "execution_count": 609,
   "metadata": {},
   "outputs": [],
   "source": [
    "features = df[\"cleaned_features\"].apply(lambda x: \" \".join(x))"
   ]
  },
  {
   "cell_type": "code",
   "execution_count": 610,
   "metadata": {},
   "outputs": [
    {
     "data": {
      "text/plain": [
       "4         dining_room pre_war laundry_in_building dishwa...\n",
       "6         doorman elevator laundry_in_building dishwashe...\n",
       "9         doorman elevator laundry_in_building laundry_i...\n",
       "10                                                         \n",
       "15        doorman elevator fitness_center laundry_in_bui...\n",
       "                                ...                        \n",
       "124000                  elevator dishwasher hardwood_floors\n",
       "124002    common_outdoor_space cats_allowed dogs_allowed...\n",
       "124004    dining_room elevator pre_war laundry_in_buildi...\n",
       "124008    pre_war laundry_in_unit dishwasher no_fee outd...\n",
       "124009    dining_room elevator laundry_in_building dishw...\n",
       "Name: cleaned_features, Length: 48848, dtype: object"
      ]
     },
     "execution_count": 610,
     "metadata": {},
     "output_type": "execute_result"
    }
   ],
   "source": [
    "features"
   ]
  },
  {
   "cell_type": "markdown",
   "metadata": {},
   "source": [
    "<a id='section1.2.1'></a>"
   ]
  },
  {
   "cell_type": "markdown",
   "metadata": {},
   "source": [
    "### 1.2.1 Top 50 features by frequency"
   ]
  },
  {
   "cell_type": "markdown",
   "metadata": {},
   "source": [
    "Now that we have cleaned our features and joined them via a space again, we can run the Tfidf (term-frequency times inverse document-frequency) vectorizer. It counts how many times a certain feature occurs within the inpt and then normalizes the count. We end up with a matrix of every feature for every row. We here set the maximum of features to 50 to prevent our model to become too big.  "
   ]
  },
  {
   "cell_type": "code",
   "execution_count": 77,
   "metadata": {},
   "outputs": [],
   "source": [
    "from sklearn.feature_extraction.text import TfidfVectorizer\n",
    "columns = df.columns.values\n",
    "\n",
    "vectorizer = TfidfVectorizer( stop_words='english',  max_features=50) # only 50 features as ouput\n",
    "X = vectorizer.fit_transform(features)"
   ]
  },
  {
   "cell_type": "code",
   "execution_count": 78,
   "metadata": {},
   "outputs": [],
   "source": [
    "x_df = pd.DataFrame.sparse.from_spmatrix(X, columns = vectorizer.vocabulary_) # change to DatFrame"
   ]
  },
  {
   "cell_type": "code",
   "execution_count": 79,
   "metadata": {},
   "outputs": [],
   "source": [
    "x_df.index = df.index # index should be the same"
   ]
  },
  {
   "cell_type": "code",
   "execution_count": 80,
   "metadata": {},
   "outputs": [],
   "source": [
    "\n",
    "df = pd.concat([df,x_df], axis = 1) # put DataFrames together\n"
   ]
  },
  {
   "cell_type": "code",
   "execution_count": 616,
   "metadata": {},
   "outputs": [
    {
     "data": {
      "text/html": [
       "<div>\n",
       "<style scoped>\n",
       "    .dataframe tbody tr th:only-of-type {\n",
       "        vertical-align: middle;\n",
       "    }\n",
       "\n",
       "    .dataframe tbody tr th {\n",
       "        vertical-align: top;\n",
       "    }\n",
       "\n",
       "    .dataframe thead th {\n",
       "        text-align: right;\n",
       "    }\n",
       "</style>\n",
       "<table border=\"1\" class=\"dataframe\">\n",
       "  <thead>\n",
       "    <tr style=\"text-align: right;\">\n",
       "      <th></th>\n",
       "      <th>bathrooms</th>\n",
       "      <th>bedrooms</th>\n",
       "      <th>building_id</th>\n",
       "      <th>created</th>\n",
       "      <th>description</th>\n",
       "      <th>display_address</th>\n",
       "      <th>features</th>\n",
       "      <th>latitude</th>\n",
       "      <th>listing_id</th>\n",
       "      <th>longitude</th>\n",
       "      <th>...</th>\n",
       "      <th>geo</th>\n",
       "      <th>geolocation</th>\n",
       "      <th>county</th>\n",
       "      <th>postal</th>\n",
       "      <th>boroughs</th>\n",
       "      <th>neighborhood</th>\n",
       "      <th>park</th>\n",
       "      <th>subway</th>\n",
       "      <th>sqrt_price</th>\n",
       "      <th>log_price</th>\n",
       "    </tr>\n",
       "  </thead>\n",
       "  <tbody>\n",
       "    <tr>\n",
       "      <th>4</th>\n",
       "      <td>1.0</td>\n",
       "      <td>1</td>\n",
       "      <td>8579a0b0d54db803821a35a4a615e97a</td>\n",
       "      <td>1466056527000</td>\n",
       "      <td>Spacious 1 Bedroom 1 Bathroom in Williamsburg!...</td>\n",
       "      <td>145 Borinquen Place</td>\n",
       "      <td>[Dining Room, Pre-War, Laundry in Building, Di...</td>\n",
       "      <td>40.7108</td>\n",
       "      <td>7170325</td>\n",
       "      <td>-73.9539</td>\n",
       "      <td>...</td>\n",
       "      <td>40.7108,-73.9539</td>\n",
       "      <td>[145,  Borinquen Place,  Williamsburg,  Brookl...</td>\n",
       "      <td>Kings County</td>\n",
       "      <td>11211</td>\n",
       "      <td>Brooklyn</td>\n",
       "      <td>other</td>\n",
       "      <td>0</td>\n",
       "      <td>0</td>\n",
       "      <td>48.989795</td>\n",
       "      <td>7.783224</td>\n",
       "    </tr>\n",
       "    <tr>\n",
       "      <th>6</th>\n",
       "      <td>1.0</td>\n",
       "      <td>2</td>\n",
       "      <td>b8e75fc949a6cd8225b455648a951712</td>\n",
       "      <td>1464759873000</td>\n",
       "      <td>BRAND NEW GUT RENOVATED TRUE 2 BEDROOMFind you...</td>\n",
       "      <td>East 44th</td>\n",
       "      <td>[Doorman, Elevator, Laundry in Building, Dishw...</td>\n",
       "      <td>40.7513</td>\n",
       "      <td>7092344</td>\n",
       "      <td>-73.9722</td>\n",
       "      <td>...</td>\n",
       "      <td>40.7513,-73.9722</td>\n",
       "      <td>[230,  East 44th Street,  Turtle Bay,  Manhatt...</td>\n",
       "      <td>New York County</td>\n",
       "      <td>10017</td>\n",
       "      <td>Manhattan</td>\n",
       "      <td>Manhattan Community Board 6</td>\n",
       "      <td>1</td>\n",
       "      <td>0</td>\n",
       "      <td>61.644140</td>\n",
       "      <td>8.242756</td>\n",
       "    </tr>\n",
       "    <tr>\n",
       "      <th>9</th>\n",
       "      <td>1.0</td>\n",
       "      <td>2</td>\n",
       "      <td>cd759a988b8f23924b5a2058d5ab2b49</td>\n",
       "      <td>1465917599000</td>\n",
       "      <td>**FLEX 2 BEDROOM WITH FULL PRESSURIZED WALL**L...</td>\n",
       "      <td>East 56th Street</td>\n",
       "      <td>[Doorman, Elevator, Laundry in Building, Laund...</td>\n",
       "      <td>40.7575</td>\n",
       "      <td>7158677</td>\n",
       "      <td>-73.9625</td>\n",
       "      <td>...</td>\n",
       "      <td>40.7575,-73.9625</td>\n",
       "      <td>[405,  East 56th Street,  Midtown East,  Manha...</td>\n",
       "      <td>New York County</td>\n",
       "      <td>10022</td>\n",
       "      <td>Manhattan</td>\n",
       "      <td>Manhattan Community Board 6</td>\n",
       "      <td>0</td>\n",
       "      <td>0</td>\n",
       "      <td>59.118525</td>\n",
       "      <td>8.159089</td>\n",
       "    </tr>\n",
       "    <tr>\n",
       "      <th>10</th>\n",
       "      <td>1.5</td>\n",
       "      <td>3</td>\n",
       "      <td>53a5b119ba8f7b61d4e010512e0dfc85</td>\n",
       "      <td>1466754864000</td>\n",
       "      <td>A Brand New 3 Bedroom 1.5 bath ApartmentEnjoy ...</td>\n",
       "      <td>Metropolitan Avenue</td>\n",
       "      <td>[]</td>\n",
       "      <td>40.7145</td>\n",
       "      <td>7211212</td>\n",
       "      <td>-73.9425</td>\n",
       "      <td>...</td>\n",
       "      <td>40.7145,-73.9425</td>\n",
       "      <td>[792,  Metropolitan Avenue,  Brooklyn,  Kings ...</td>\n",
       "      <td>Kings County</td>\n",
       "      <td>11211</td>\n",
       "      <td>Brooklyn</td>\n",
       "      <td>other</td>\n",
       "      <td>0</td>\n",
       "      <td>0</td>\n",
       "      <td>54.772256</td>\n",
       "      <td>8.006368</td>\n",
       "    </tr>\n",
       "    <tr>\n",
       "      <th>15</th>\n",
       "      <td>1.0</td>\n",
       "      <td>0</td>\n",
       "      <td>bfb9405149bfff42a92980b594c28234</td>\n",
       "      <td>1467085823000</td>\n",
       "      <td>Over-sized Studio w abundant closets. Availabl...</td>\n",
       "      <td>East 34th Street</td>\n",
       "      <td>[Doorman, Elevator, Fitness Center, Laundry in...</td>\n",
       "      <td>40.7439</td>\n",
       "      <td>7225292</td>\n",
       "      <td>-73.9743</td>\n",
       "      <td>...</td>\n",
       "      <td>40.7439,-73.9743</td>\n",
       "      <td>[340,  East 34th Street,  Kips Bay,  Manhattan...</td>\n",
       "      <td>New York County</td>\n",
       "      <td>10016</td>\n",
       "      <td>Manhattan</td>\n",
       "      <td>Manhattan Community Board 6</td>\n",
       "      <td>0</td>\n",
       "      <td>0</td>\n",
       "      <td>52.867760</td>\n",
       "      <td>7.935587</td>\n",
       "    </tr>\n",
       "    <tr>\n",
       "      <th>...</th>\n",
       "      <td>...</td>\n",
       "      <td>...</td>\n",
       "      <td>...</td>\n",
       "      <td>...</td>\n",
       "      <td>...</td>\n",
       "      <td>...</td>\n",
       "      <td>...</td>\n",
       "      <td>...</td>\n",
       "      <td>...</td>\n",
       "      <td>...</td>\n",
       "      <td>...</td>\n",
       "      <td>...</td>\n",
       "      <td>...</td>\n",
       "      <td>...</td>\n",
       "      <td>...</td>\n",
       "      <td>...</td>\n",
       "      <td>...</td>\n",
       "      <td>...</td>\n",
       "      <td>...</td>\n",
       "      <td>...</td>\n",
       "      <td>...</td>\n",
       "    </tr>\n",
       "    <tr>\n",
       "      <th>124000</th>\n",
       "      <td>1.0</td>\n",
       "      <td>3</td>\n",
       "      <td>92bbbf38baadfde0576fc496bd41749c</td>\n",
       "      <td>1459828713000</td>\n",
       "      <td>There is 700 square feet of recently renovated...</td>\n",
       "      <td>W 171 Street</td>\n",
       "      <td>[Elevator, Dishwasher, Hardwood Floors]</td>\n",
       "      <td>40.8433</td>\n",
       "      <td>6824800</td>\n",
       "      <td>-73.9396</td>\n",
       "      <td>...</td>\n",
       "      <td>40.8433,-73.9396</td>\n",
       "      <td>[620,  West 171st Street,  Washington Heights,...</td>\n",
       "      <td>New York County</td>\n",
       "      <td>10032</td>\n",
       "      <td>Manhattan</td>\n",
       "      <td>Manhattan Community Board 12</td>\n",
       "      <td>0</td>\n",
       "      <td>1</td>\n",
       "      <td>52.915026</td>\n",
       "      <td>7.937375</td>\n",
       "    </tr>\n",
       "    <tr>\n",
       "      <th>124002</th>\n",
       "      <td>1.0</td>\n",
       "      <td>2</td>\n",
       "      <td>5565db9b7cba3603834c4aa6f2950960</td>\n",
       "      <td>1459563931000</td>\n",
       "      <td>2 bedroom apartment with updated kitchen, rece...</td>\n",
       "      <td>Broadway</td>\n",
       "      <td>[Common Outdoor Space, Cats Allowed, Dogs Allo...</td>\n",
       "      <td>40.8198</td>\n",
       "      <td>6813268</td>\n",
       "      <td>-73.9578</td>\n",
       "      <td>...</td>\n",
       "      <td>40.8198,-73.9578</td>\n",
       "      <td>[3333 Broadway,  3333,  Broadway,  Manhattanvi...</td>\n",
       "      <td>New York County</td>\n",
       "      <td>10115</td>\n",
       "      <td>Manhattan</td>\n",
       "      <td>Manhattan Community Board 9</td>\n",
       "      <td>0</td>\n",
       "      <td>0</td>\n",
       "      <td>48.938737</td>\n",
       "      <td>7.781139</td>\n",
       "    </tr>\n",
       "    <tr>\n",
       "      <th>124004</th>\n",
       "      <td>1.0</td>\n",
       "      <td>1</td>\n",
       "      <td>67997a128056ee1ed7d046bbb856e3c7</td>\n",
       "      <td>1461649323000</td>\n",
       "      <td>No Brokers Fee * Never Lived 1 Bedroom 1 Bathr...</td>\n",
       "      <td>210 Brighton 15th St</td>\n",
       "      <td>[Dining Room, Elevator, Pre-War, Laundry in Bu...</td>\n",
       "      <td>40.6404</td>\n",
       "      <td>6927093</td>\n",
       "      <td>-73.9554</td>\n",
       "      <td>...</td>\n",
       "      <td>40.6404,-73.9554</td>\n",
       "      <td>[1221,  Flatbush Avenue,  Brooklyn,  Kings Cou...</td>\n",
       "      <td>Kings County</td>\n",
       "      <td>11226</td>\n",
       "      <td>Brooklyn</td>\n",
       "      <td>other</td>\n",
       "      <td>0</td>\n",
       "      <td>0</td>\n",
       "      <td>43.011626</td>\n",
       "      <td>7.522941</td>\n",
       "    </tr>\n",
       "    <tr>\n",
       "      <th>124008</th>\n",
       "      <td>1.0</td>\n",
       "      <td>2</td>\n",
       "      <td>3c0574a740154806c18bdf1fddd3d966</td>\n",
       "      <td>1461034053000</td>\n",
       "      <td>Wonderful Bright Chelsea 2 Bedroom apartment o...</td>\n",
       "      <td>West 21st Street</td>\n",
       "      <td>[Pre-War, Laundry in Unit, Dishwasher, No Fee,...</td>\n",
       "      <td>40.7448</td>\n",
       "      <td>6892816</td>\n",
       "      <td>-74.0017</td>\n",
       "      <td>...</td>\n",
       "      <td>40.7448,-74.0017</td>\n",
       "      <td>[348,  West 21st Street,  Chelsea,  Manhattan ...</td>\n",
       "      <td>New York County</td>\n",
       "      <td>10011</td>\n",
       "      <td>Manhattan</td>\n",
       "      <td>Manhattan Community Board 4</td>\n",
       "      <td>1</td>\n",
       "      <td>0</td>\n",
       "      <td>64.768820</td>\n",
       "      <td>8.341649</td>\n",
       "    </tr>\n",
       "    <tr>\n",
       "      <th>124009</th>\n",
       "      <td>1.0</td>\n",
       "      <td>3</td>\n",
       "      <td>d89f514c3ed0abaae52cba7017ac0701</td>\n",
       "      <td>1461130440000</td>\n",
       "      <td>***PRIME MIDTOWN EAST OFF PARK AVE***TRUE 3 BE...</td>\n",
       "      <td>E 54th St</td>\n",
       "      <td>[Dining Room, Elevator, Laundry in Building, D...</td>\n",
       "      <td>40.7594</td>\n",
       "      <td>6901023</td>\n",
       "      <td>-73.9712</td>\n",
       "      <td>...</td>\n",
       "      <td>40.7594,-73.9712</td>\n",
       "      <td>[123,  East 54th Street,  Midtown East,  Manha...</td>\n",
       "      <td>New York County</td>\n",
       "      <td>10022</td>\n",
       "      <td>Manhattan</td>\n",
       "      <td>Manhattan Community Board 5</td>\n",
       "      <td>0</td>\n",
       "      <td>0</td>\n",
       "      <td>65.421709</td>\n",
       "      <td>8.361708</td>\n",
       "    </tr>\n",
       "  </tbody>\n",
       "</table>\n",
       "<p>48848 rows × 93 columns</p>\n",
       "</div>"
      ],
      "text/plain": [
       "        bathrooms  bedrooms                       building_id        created  \\\n",
       "4             1.0         1  8579a0b0d54db803821a35a4a615e97a  1466056527000   \n",
       "6             1.0         2  b8e75fc949a6cd8225b455648a951712  1464759873000   \n",
       "9             1.0         2  cd759a988b8f23924b5a2058d5ab2b49  1465917599000   \n",
       "10            1.5         3  53a5b119ba8f7b61d4e010512e0dfc85  1466754864000   \n",
       "15            1.0         0  bfb9405149bfff42a92980b594c28234  1467085823000   \n",
       "...           ...       ...                               ...            ...   \n",
       "124000        1.0         3  92bbbf38baadfde0576fc496bd41749c  1459828713000   \n",
       "124002        1.0         2  5565db9b7cba3603834c4aa6f2950960  1459563931000   \n",
       "124004        1.0         1  67997a128056ee1ed7d046bbb856e3c7  1461649323000   \n",
       "124008        1.0         2  3c0574a740154806c18bdf1fddd3d966  1461034053000   \n",
       "124009        1.0         3  d89f514c3ed0abaae52cba7017ac0701  1461130440000   \n",
       "\n",
       "                                              description  \\\n",
       "4       Spacious 1 Bedroom 1 Bathroom in Williamsburg!...   \n",
       "6       BRAND NEW GUT RENOVATED TRUE 2 BEDROOMFind you...   \n",
       "9       **FLEX 2 BEDROOM WITH FULL PRESSURIZED WALL**L...   \n",
       "10      A Brand New 3 Bedroom 1.5 bath ApartmentEnjoy ...   \n",
       "15      Over-sized Studio w abundant closets. Availabl...   \n",
       "...                                                   ...   \n",
       "124000  There is 700 square feet of recently renovated...   \n",
       "124002  2 bedroom apartment with updated kitchen, rece...   \n",
       "124004  No Brokers Fee * Never Lived 1 Bedroom 1 Bathr...   \n",
       "124008  Wonderful Bright Chelsea 2 Bedroom apartment o...   \n",
       "124009  ***PRIME MIDTOWN EAST OFF PARK AVE***TRUE 3 BE...   \n",
       "\n",
       "             display_address  \\\n",
       "4        145 Borinquen Place   \n",
       "6                  East 44th   \n",
       "9           East 56th Street   \n",
       "10       Metropolitan Avenue   \n",
       "15          East 34th Street   \n",
       "...                      ...   \n",
       "124000          W 171 Street   \n",
       "124002              Broadway   \n",
       "124004  210 Brighton 15th St   \n",
       "124008      West 21st Street   \n",
       "124009             E 54th St   \n",
       "\n",
       "                                                 features  latitude  \\\n",
       "4       [Dining Room, Pre-War, Laundry in Building, Di...   40.7108   \n",
       "6       [Doorman, Elevator, Laundry in Building, Dishw...   40.7513   \n",
       "9       [Doorman, Elevator, Laundry in Building, Laund...   40.7575   \n",
       "10                                                     []   40.7145   \n",
       "15      [Doorman, Elevator, Fitness Center, Laundry in...   40.7439   \n",
       "...                                                   ...       ...   \n",
       "124000            [Elevator, Dishwasher, Hardwood Floors]   40.8433   \n",
       "124002  [Common Outdoor Space, Cats Allowed, Dogs Allo...   40.8198   \n",
       "124004  [Dining Room, Elevator, Pre-War, Laundry in Bu...   40.6404   \n",
       "124008  [Pre-War, Laundry in Unit, Dishwasher, No Fee,...   40.7448   \n",
       "124009  [Dining Room, Elevator, Laundry in Building, D...   40.7594   \n",
       "\n",
       "        listing_id  longitude  ...               geo  \\\n",
       "4          7170325   -73.9539  ...  40.7108,-73.9539   \n",
       "6          7092344   -73.9722  ...  40.7513,-73.9722   \n",
       "9          7158677   -73.9625  ...  40.7575,-73.9625   \n",
       "10         7211212   -73.9425  ...  40.7145,-73.9425   \n",
       "15         7225292   -73.9743  ...  40.7439,-73.9743   \n",
       "...            ...        ...  ...               ...   \n",
       "124000     6824800   -73.9396  ...  40.8433,-73.9396   \n",
       "124002     6813268   -73.9578  ...  40.8198,-73.9578   \n",
       "124004     6927093   -73.9554  ...  40.6404,-73.9554   \n",
       "124008     6892816   -74.0017  ...  40.7448,-74.0017   \n",
       "124009     6901023   -73.9712  ...  40.7594,-73.9712   \n",
       "\n",
       "                                              geolocation            county  \\\n",
       "4       [145,  Borinquen Place,  Williamsburg,  Brookl...      Kings County   \n",
       "6       [230,  East 44th Street,  Turtle Bay,  Manhatt...   New York County   \n",
       "9       [405,  East 56th Street,  Midtown East,  Manha...   New York County   \n",
       "10      [792,  Metropolitan Avenue,  Brooklyn,  Kings ...      Kings County   \n",
       "15      [340,  East 34th Street,  Kips Bay,  Manhattan...   New York County   \n",
       "...                                                   ...               ...   \n",
       "124000  [620,  West 171st Street,  Washington Heights,...   New York County   \n",
       "124002  [3333 Broadway,  3333,  Broadway,  Manhattanvi...   New York County   \n",
       "124004  [1221,  Flatbush Avenue,  Brooklyn,  Kings Cou...      Kings County   \n",
       "124008  [348,  West 21st Street,  Chelsea,  Manhattan ...   New York County   \n",
       "124009  [123,  East 54th Street,  Midtown East,  Manha...   New York County   \n",
       "\n",
       "       postal    boroughs                   neighborhood  park  subway  \\\n",
       "4       11211    Brooklyn                          other     0       0   \n",
       "6       10017   Manhattan    Manhattan Community Board 6     1       0   \n",
       "9       10022   Manhattan    Manhattan Community Board 6     0       0   \n",
       "10      11211    Brooklyn                          other     0       0   \n",
       "15      10016   Manhattan    Manhattan Community Board 6     0       0   \n",
       "...       ...         ...                            ...   ...     ...   \n",
       "124000  10032   Manhattan   Manhattan Community Board 12     0       1   \n",
       "124002  10115   Manhattan    Manhattan Community Board 9     0       0   \n",
       "124004  11226    Brooklyn                          other     0       0   \n",
       "124008  10011   Manhattan    Manhattan Community Board 4     1       0   \n",
       "124009  10022   Manhattan    Manhattan Community Board 5     0       0   \n",
       "\n",
       "        sqrt_price  log_price  \n",
       "4        48.989795   7.783224  \n",
       "6        61.644140   8.242756  \n",
       "9        59.118525   8.159089  \n",
       "10       54.772256   8.006368  \n",
       "15       52.867760   7.935587  \n",
       "...            ...        ...  \n",
       "124000   52.915026   7.937375  \n",
       "124002   48.938737   7.781139  \n",
       "124004   43.011626   7.522941  \n",
       "124008   64.768820   8.341649  \n",
       "124009   65.421709   8.361708  \n",
       "\n",
       "[48848 rows x 93 columns]"
      ]
     },
     "execution_count": 616,
     "metadata": {},
     "output_type": "execute_result"
    }
   ],
   "source": [
    "df"
   ]
  },
  {
   "cell_type": "markdown",
   "metadata": {},
   "source": [
    "We can now see the different features as a single column. The result will be a float if this feature is within this column. "
   ]
  },
  {
   "cell_type": "markdown",
   "metadata": {},
   "source": [
    "<a id='section1.3'></a>"
   ]
  },
  {
   "cell_type": "markdown",
   "metadata": {},
   "source": [
    "## 1.3 Address"
   ]
  },
  {
   "cell_type": "markdown",
   "metadata": {},
   "source": [
    "As we have two address columns in the data set we might want to check if these are actually the same or if there are differences. Customers could think this entry would be a fraud and lose interest. Therefore, we should add a new column that also measures the similarity between the two addresses. One example if the fuzzywuzzy package. With this we can use a fuzzy string match to calculate the partial ratio of similarity. The following datacamp tutorial helped understanding the topic further: https://www.datacamp.com/community/tutorials/fuzzy-string-python. "
   ]
  },
  {
   "cell_type": "code",
   "execution_count": 82,
   "metadata": {},
   "outputs": [
    {
     "data": {
      "text/html": [
       "<div>\n",
       "<style scoped>\n",
       "    .dataframe tbody tr th:only-of-type {\n",
       "        vertical-align: middle;\n",
       "    }\n",
       "\n",
       "    .dataframe tbody tr th {\n",
       "        vertical-align: top;\n",
       "    }\n",
       "\n",
       "    .dataframe thead th {\n",
       "        text-align: right;\n",
       "    }\n",
       "</style>\n",
       "<table border=\"1\" class=\"dataframe\">\n",
       "  <thead>\n",
       "    <tr style=\"text-align: right;\">\n",
       "      <th></th>\n",
       "      <th>display_address</th>\n",
       "      <th>street_address</th>\n",
       "    </tr>\n",
       "  </thead>\n",
       "  <tbody>\n",
       "    <tr>\n",
       "      <th>4</th>\n",
       "      <td>145 Borinquen Place</td>\n",
       "      <td>145 Borinquen Place</td>\n",
       "    </tr>\n",
       "    <tr>\n",
       "      <th>6</th>\n",
       "      <td>East 44th</td>\n",
       "      <td>230 East 44th</td>\n",
       "    </tr>\n",
       "    <tr>\n",
       "      <th>9</th>\n",
       "      <td>East 56th Street</td>\n",
       "      <td>405 East 56th Street</td>\n",
       "    </tr>\n",
       "    <tr>\n",
       "      <th>10</th>\n",
       "      <td>Metropolitan Avenue</td>\n",
       "      <td>792 Metropolitan Avenue</td>\n",
       "    </tr>\n",
       "    <tr>\n",
       "      <th>15</th>\n",
       "      <td>East 34th Street</td>\n",
       "      <td>340 East 34th Street</td>\n",
       "    </tr>\n",
       "    <tr>\n",
       "      <th>...</th>\n",
       "      <td>...</td>\n",
       "      <td>...</td>\n",
       "    </tr>\n",
       "    <tr>\n",
       "      <th>124000</th>\n",
       "      <td>W 171 Street</td>\n",
       "      <td>620 W 171 Street</td>\n",
       "    </tr>\n",
       "    <tr>\n",
       "      <th>124002</th>\n",
       "      <td>Broadway</td>\n",
       "      <td>3333 Broadway</td>\n",
       "    </tr>\n",
       "    <tr>\n",
       "      <th>124004</th>\n",
       "      <td>210 Brighton 15th St</td>\n",
       "      <td>210 Brighton 15th St</td>\n",
       "    </tr>\n",
       "    <tr>\n",
       "      <th>124008</th>\n",
       "      <td>West 21st Street</td>\n",
       "      <td>350 West 21st Street</td>\n",
       "    </tr>\n",
       "    <tr>\n",
       "      <th>124009</th>\n",
       "      <td>E 54th St</td>\n",
       "      <td>123 E 54th St</td>\n",
       "    </tr>\n",
       "  </tbody>\n",
       "</table>\n",
       "<p>49352 rows × 2 columns</p>\n",
       "</div>"
      ],
      "text/plain": [
       "             display_address           street_address\n",
       "4        145 Borinquen Place      145 Borinquen Place\n",
       "6                  East 44th            230 East 44th\n",
       "9           East 56th Street     405 East 56th Street\n",
       "10       Metropolitan Avenue  792 Metropolitan Avenue\n",
       "15          East 34th Street     340 East 34th Street\n",
       "...                      ...                      ...\n",
       "124000          W 171 Street         620 W 171 Street\n",
       "124002              Broadway            3333 Broadway\n",
       "124004  210 Brighton 15th St     210 Brighton 15th St\n",
       "124008      West 21st Street     350 West 21st Street\n",
       "124009             E 54th St            123 E 54th St\n",
       "\n",
       "[49352 rows x 2 columns]"
      ]
     },
     "execution_count": 82,
     "metadata": {},
     "output_type": "execute_result"
    }
   ],
   "source": [
    "df[['display_address', 'street_address']]"
   ]
  },
  {
   "cell_type": "code",
   "execution_count": 83,
   "metadata": {},
   "outputs": [],
   "source": [
    "df['similarity_address'] = 0.0 #initiate float variable\n",
    "for row in df.index:\n",
    "    df['similarity_address'][row] = fuzz.partial_ratio(df['display_address'][row].lower(),df['street_address'][row].lower())"
   ]
  },
  {
   "cell_type": "markdown",
   "metadata": {},
   "source": [
    "<a id='section3'></a>"
   ]
  },
  {
   "cell_type": "markdown",
   "metadata": {},
   "source": [
    "Before we can go on we could check wther what we've done was actuall helpful. One idea is it to use the out-of-bag score with a random forest classifier. \n",
    "Here we can see that the results increased a bit. with our natural language processing. "
   ]
  },
  {
   "cell_type": "code",
   "execution_count": 130,
   "metadata": {},
   "outputs": [
    {
     "name": "stdout",
     "output_type": "stream",
     "text": [
      "Validation OOB score 0.7255\n"
     ]
    }
   ],
   "source": [
    "X, y = df.drop(columns = [ 'building_id', 'created', 'description',\n",
    "       'display_address', 'features', 'listing_id','manager_id',\n",
    "        'photos',  'street_address', 'interest_level',\n",
    "       'date_created','date_converted', 'weekday','cleaned_description',\n",
    "        'features_lower', 'cleaned_features']), df['interest_level']\n",
    "rf = RandomForestClassifier(n_estimators=100,\n",
    "                           n_jobs=-1,        # parallelize\n",
    "                           oob_score=True)   # get error estimate\n",
    "rf.fit(X, y)\n",
    "clean_oob_r2 = rf.oob_score_\n",
    "print(f\"Validation OOB score {clean_oob_r2:.4f}\")"
   ]
  },
  {
   "cell_type": "markdown",
   "metadata": {},
   "source": [
    "## 3. **Geographic Data**"
   ]
  },
  {
   "cell_type": "markdown",
   "metadata": {},
   "source": [
    "Let us look into the geographic data again. With the help of the geocoder we can reverse geocode with the longitude and latitude. Following article was a great help to understand how this can be coded https://towardsdatascience.com/reverse-geocoding-in-python-a915acf29eb6. From this we should be able to extract different areas from NYC. "
   ]
  },
  {
   "cell_type": "code",
   "execution_count": 98,
   "metadata": {},
   "outputs": [
    {
     "data": {
      "text/plain": [
       "'40.7108,-73.9539'"
      ]
     },
     "execution_count": 98,
     "metadata": {},
     "output_type": "execute_result"
    }
   ],
   "source": [
    "df['geo'] = df['latitude'].map(str) + ',' + df['longitude'].map(str)\n",
    "df['geo'][4]"
   ]
  },
  {
   "cell_type": "code",
   "execution_count": 99,
   "metadata": {},
   "outputs": [],
   "source": [
    "from geopy.geocoders import Nominatim\n",
    "from geopy.extra.rate_limiter import RateLimiter\n",
    "locator = Nominatim(user_agent='Google', timeout=10)\n",
    "rgeocode = RateLimiter(locator.reverse, min_delay_seconds=0.001)"
   ]
  },
  {
   "cell_type": "markdown",
   "metadata": {},
   "source": [
    "### WARNING! Code takes long to run!"
   ]
  },
  {
   "cell_type": "code",
   "execution_count": 100,
   "metadata": {},
   "outputs": [
    {
     "name": "stderr",
     "output_type": "stream",
     "text": [
      "C:\\Users\\Annelie Schridde\\anaconda3\\lib\\site-packages\\tqdm\\std.py:658: FutureWarning:\n",
      "\n",
      "The Panel class is removed from pandas. Accessing it from the top-level namespace will also be removed in the next version\n",
      "\n"
     ]
    },
    {
     "data": {
      "application/vnd.jupyter.widget-view+json": {
       "model_id": "0b365ab7792d4773b1a3f53d96e9c6f7",
       "version_major": 2,
       "version_minor": 0
      },
      "text/plain": [
       "HBox(children=(FloatProgress(value=0.0, max=49352.0), HTML(value='')))"
      ]
     },
     "metadata": {},
     "output_type": "display_data"
    },
    {
     "name": "stdout",
     "output_type": "stream",
     "text": [
      "\n"
     ]
    },
    {
     "data": {
      "text/html": [
       "<div>\n",
       "<style scoped>\n",
       "    .dataframe tbody tr th:only-of-type {\n",
       "        vertical-align: middle;\n",
       "    }\n",
       "\n",
       "    .dataframe tbody tr th {\n",
       "        vertical-align: top;\n",
       "    }\n",
       "\n",
       "    .dataframe thead th {\n",
       "        text-align: right;\n",
       "    }\n",
       "</style>\n",
       "<table border=\"1\" class=\"dataframe\">\n",
       "  <thead>\n",
       "    <tr style=\"text-align: right;\">\n",
       "      <th></th>\n",
       "      <th>bathrooms</th>\n",
       "      <th>bedrooms</th>\n",
       "      <th>building_id</th>\n",
       "      <th>created</th>\n",
       "      <th>description</th>\n",
       "      <th>display_address</th>\n",
       "      <th>features</th>\n",
       "      <th>latitude</th>\n",
       "      <th>listing_id</th>\n",
       "      <th>longitude</th>\n",
       "      <th>...</th>\n",
       "      <th>high_ceilings</th>\n",
       "      <th>high_ceiling</th>\n",
       "      <th>laundry_room</th>\n",
       "      <th>renovated</th>\n",
       "      <th>dryer_in_unit</th>\n",
       "      <th>live_in_super</th>\n",
       "      <th>green_building</th>\n",
       "      <th>similarity_address</th>\n",
       "      <th>geo</th>\n",
       "      <th>geolocation</th>\n",
       "    </tr>\n",
       "  </thead>\n",
       "  <tbody>\n",
       "    <tr>\n",
       "      <th>4</th>\n",
       "      <td>1.0</td>\n",
       "      <td>1</td>\n",
       "      <td>8579a0b0d54db803821a35a4a615e97a</td>\n",
       "      <td>1466056527000</td>\n",
       "      <td>Spacious 1 Bedroom 1 Bathroom in Williamsburg!...</td>\n",
       "      <td>145 Borinquen Place</td>\n",
       "      <td>[Dining Room, Pre-War, Laundry in Building, Di...</td>\n",
       "      <td>40.7108</td>\n",
       "      <td>7170325</td>\n",
       "      <td>-73.9539</td>\n",
       "      <td>...</td>\n",
       "      <td>0.0</td>\n",
       "      <td>0.0</td>\n",
       "      <td>0.0</td>\n",
       "      <td>0.0</td>\n",
       "      <td>0.0</td>\n",
       "      <td>0.0</td>\n",
       "      <td>0.0</td>\n",
       "      <td>100.0</td>\n",
       "      <td>40.7108,-73.9539</td>\n",
       "      <td>(145, Borinquen Place, Williamsburg, Brooklyn,...</td>\n",
       "    </tr>\n",
       "    <tr>\n",
       "      <th>6</th>\n",
       "      <td>1.0</td>\n",
       "      <td>2</td>\n",
       "      <td>b8e75fc949a6cd8225b455648a951712</td>\n",
       "      <td>1464759873000</td>\n",
       "      <td>BRAND NEW GUT RENOVATED TRUE 2 BEDROOMFind you...</td>\n",
       "      <td>East 44th</td>\n",
       "      <td>[Doorman, Elevator, Laundry in Building, Dishw...</td>\n",
       "      <td>40.7513</td>\n",
       "      <td>7092344</td>\n",
       "      <td>-73.9722</td>\n",
       "      <td>...</td>\n",
       "      <td>0.0</td>\n",
       "      <td>0.0</td>\n",
       "      <td>0.0</td>\n",
       "      <td>0.0</td>\n",
       "      <td>0.0</td>\n",
       "      <td>0.0</td>\n",
       "      <td>0.0</td>\n",
       "      <td>100.0</td>\n",
       "      <td>40.7513,-73.9722</td>\n",
       "      <td>(230, East 44th Street, Turtle Bay, Manhattan ...</td>\n",
       "    </tr>\n",
       "    <tr>\n",
       "      <th>9</th>\n",
       "      <td>1.0</td>\n",
       "      <td>2</td>\n",
       "      <td>cd759a988b8f23924b5a2058d5ab2b49</td>\n",
       "      <td>1465917599000</td>\n",
       "      <td>**FLEX 2 BEDROOM WITH FULL PRESSURIZED WALL**L...</td>\n",
       "      <td>East 56th Street</td>\n",
       "      <td>[Doorman, Elevator, Laundry in Building, Laund...</td>\n",
       "      <td>40.7575</td>\n",
       "      <td>7158677</td>\n",
       "      <td>-73.9625</td>\n",
       "      <td>...</td>\n",
       "      <td>0.0</td>\n",
       "      <td>0.0</td>\n",
       "      <td>0.0</td>\n",
       "      <td>0.0</td>\n",
       "      <td>0.0</td>\n",
       "      <td>0.0</td>\n",
       "      <td>0.0</td>\n",
       "      <td>100.0</td>\n",
       "      <td>40.7575,-73.9625</td>\n",
       "      <td>(405, East 56th Street, Midtown East, Manhatta...</td>\n",
       "    </tr>\n",
       "    <tr>\n",
       "      <th>10</th>\n",
       "      <td>1.5</td>\n",
       "      <td>3</td>\n",
       "      <td>53a5b119ba8f7b61d4e010512e0dfc85</td>\n",
       "      <td>1466754864000</td>\n",
       "      <td>A Brand New 3 Bedroom 1.5 bath ApartmentEnjoy ...</td>\n",
       "      <td>Metropolitan Avenue</td>\n",
       "      <td>[]</td>\n",
       "      <td>40.7145</td>\n",
       "      <td>7211212</td>\n",
       "      <td>-73.9425</td>\n",
       "      <td>...</td>\n",
       "      <td>0.0</td>\n",
       "      <td>0.0</td>\n",
       "      <td>0.0</td>\n",
       "      <td>0.0</td>\n",
       "      <td>0.0</td>\n",
       "      <td>0.0</td>\n",
       "      <td>0.0</td>\n",
       "      <td>100.0</td>\n",
       "      <td>40.7145,-73.9425</td>\n",
       "      <td>(792, Metropolitan Avenue, Brooklyn, Kings Cou...</td>\n",
       "    </tr>\n",
       "    <tr>\n",
       "      <th>15</th>\n",
       "      <td>1.0</td>\n",
       "      <td>0</td>\n",
       "      <td>bfb9405149bfff42a92980b594c28234</td>\n",
       "      <td>1467085823000</td>\n",
       "      <td>Over-sized Studio w abundant closets. Availabl...</td>\n",
       "      <td>East 34th Street</td>\n",
       "      <td>[Doorman, Elevator, Fitness Center, Laundry in...</td>\n",
       "      <td>40.7439</td>\n",
       "      <td>7225292</td>\n",
       "      <td>-73.9743</td>\n",
       "      <td>...</td>\n",
       "      <td>0.0</td>\n",
       "      <td>0.0</td>\n",
       "      <td>0.0</td>\n",
       "      <td>0.0</td>\n",
       "      <td>0.0</td>\n",
       "      <td>0.0</td>\n",
       "      <td>0.0</td>\n",
       "      <td>100.0</td>\n",
       "      <td>40.7439,-73.9743</td>\n",
       "      <td>(340, East 34th Street, Kips Bay, Manhattan Co...</td>\n",
       "    </tr>\n",
       "  </tbody>\n",
       "</table>\n",
       "<p>5 rows × 85 columns</p>\n",
       "</div>"
      ],
      "text/plain": [
       "    bathrooms  bedrooms                       building_id        created  \\\n",
       "4         1.0         1  8579a0b0d54db803821a35a4a615e97a  1466056527000   \n",
       "6         1.0         2  b8e75fc949a6cd8225b455648a951712  1464759873000   \n",
       "9         1.0         2  cd759a988b8f23924b5a2058d5ab2b49  1465917599000   \n",
       "10        1.5         3  53a5b119ba8f7b61d4e010512e0dfc85  1466754864000   \n",
       "15        1.0         0  bfb9405149bfff42a92980b594c28234  1467085823000   \n",
       "\n",
       "                                          description      display_address  \\\n",
       "4   Spacious 1 Bedroom 1 Bathroom in Williamsburg!...  145 Borinquen Place   \n",
       "6   BRAND NEW GUT RENOVATED TRUE 2 BEDROOMFind you...            East 44th   \n",
       "9   **FLEX 2 BEDROOM WITH FULL PRESSURIZED WALL**L...     East 56th Street   \n",
       "10  A Brand New 3 Bedroom 1.5 bath ApartmentEnjoy ...  Metropolitan Avenue   \n",
       "15  Over-sized Studio w abundant closets. Availabl...     East 34th Street   \n",
       "\n",
       "                                             features  latitude  listing_id  \\\n",
       "4   [Dining Room, Pre-War, Laundry in Building, Di...   40.7108     7170325   \n",
       "6   [Doorman, Elevator, Laundry in Building, Dishw...   40.7513     7092344   \n",
       "9   [Doorman, Elevator, Laundry in Building, Laund...   40.7575     7158677   \n",
       "10                                                 []   40.7145     7211212   \n",
       "15  [Doorman, Elevator, Fitness Center, Laundry in...   40.7439     7225292   \n",
       "\n",
       "    longitude  ... high_ceilings high_ceiling  laundry_room renovated  \\\n",
       "4    -73.9539  ...           0.0          0.0           0.0       0.0   \n",
       "6    -73.9722  ...           0.0          0.0           0.0       0.0   \n",
       "9    -73.9625  ...           0.0          0.0           0.0       0.0   \n",
       "10   -73.9425  ...           0.0          0.0           0.0       0.0   \n",
       "15   -73.9743  ...           0.0          0.0           0.0       0.0   \n",
       "\n",
       "   dryer_in_unit  live_in_super  green_building  similarity_address  \\\n",
       "4            0.0            0.0             0.0               100.0   \n",
       "6            0.0            0.0             0.0               100.0   \n",
       "9            0.0            0.0             0.0               100.0   \n",
       "10           0.0            0.0             0.0               100.0   \n",
       "15           0.0            0.0             0.0               100.0   \n",
       "\n",
       "                 geo                                        geolocation  \n",
       "4   40.7108,-73.9539  (145, Borinquen Place, Williamsburg, Brooklyn,...  \n",
       "6   40.7513,-73.9722  (230, East 44th Street, Turtle Bay, Manhattan ...  \n",
       "9   40.7575,-73.9625  (405, East 56th Street, Midtown East, Manhatta...  \n",
       "10  40.7145,-73.9425  (792, Metropolitan Avenue, Brooklyn, Kings Cou...  \n",
       "15  40.7439,-73.9743  (340, East 34th Street, Kips Bay, Manhattan Co...  \n",
       "\n",
       "[5 rows x 85 columns]"
      ]
     },
     "execution_count": 100,
     "metadata": {},
     "output_type": "execute_result"
    }
   ],
   "source": [
    "from tqdm.auto import tqdm\n",
    "tqdm.pandas()\n",
    "\n",
    "df['geolocation'] = df['geo'].progress_apply(rgeocode)\n",
    "df.head()"
   ]
  },
  {
   "cell_type": "code",
   "execution_count": 104,
   "metadata": {},
   "outputs": [
    {
     "data": {
      "text/plain": [
       "Location(228, East 84th Street, Yorkville, Manhattan Community Board 8, Manhattan, New York County, New York, 10028, United States, (40.77680105, -73.95371052251772, 0.0))"
      ]
     },
     "execution_count": 104,
     "metadata": {},
     "output_type": "execute_result"
    }
   ],
   "source": [
    "df['geolocation'][600] #check if everything went well"
   ]
  },
  {
   "cell_type": "markdown",
   "metadata": {},
   "source": [
    "As we can see here in the above example, we were able to extract the whole information of the the location. Let us see what we can do with that address."
   ]
  },
  {
   "cell_type": "code",
   "execution_count": 106,
   "metadata": {},
   "outputs": [
    {
     "data": {
      "application/vnd.jupyter.widget-view+json": {
       "model_id": "5cb3290e04fd49d3b22a53bfafd248c1",
       "version_major": 2,
       "version_minor": 0
      },
      "text/plain": [
       "HBox(children=(FloatProgress(value=0.0, max=49350.0), HTML(value='')))"
      ]
     },
     "metadata": {},
     "output_type": "display_data"
    },
    {
     "name": "stdout",
     "output_type": "stream",
     "text": [
      "\n"
     ]
    }
   ],
   "source": [
    "df['geolocation'] = df['geolocation'].progress_apply(lambda x: (x.address))"
   ]
  },
  {
   "cell_type": "code",
   "execution_count": 111,
   "metadata": {},
   "outputs": [
    {
     "data": {
      "application/vnd.jupyter.widget-view+json": {
       "model_id": "2eeea2b938a14d0992c840153c8269aa",
       "version_major": 2,
       "version_minor": 0
      },
      "text/plain": [
       "HBox(children=(FloatProgress(value=0.0, max=49350.0), HTML(value='')))"
      ]
     },
     "metadata": {},
     "output_type": "display_data"
    },
    {
     "name": "stdout",
     "output_type": "stream",
     "text": [
      "\n"
     ]
    }
   ],
   "source": [
    "df['geolocation'] = df['geolocation'].progress_apply(lambda x: (x.split(',')))"
   ]
  },
  {
   "cell_type": "code",
   "execution_count": 112,
   "metadata": {},
   "outputs": [
    {
     "data": {
      "text/plain": [
       "4         [145,  Borinquen Place,  Williamsburg,  Brookl...\n",
       "6         [230,  East 44th Street,  Turtle Bay,  Manhatt...\n",
       "9         [405,  East 56th Street,  Midtown East,  Manha...\n",
       "10        [792,  Metropolitan Avenue,  Brooklyn,  Kings ...\n",
       "15        [340,  East 34th Street,  Kips Bay,  Manhattan...\n",
       "                                ...                        \n",
       "124000    [620,  West 171st Street,  Washington Heights,...\n",
       "124002    [3333 Broadway,  3333,  Broadway,  Manhattanvi...\n",
       "124004    [1221,  Flatbush Avenue,  Brooklyn,  Kings Cou...\n",
       "124008    [348,  West 21st Street,  Chelsea,  Manhattan ...\n",
       "124009    [123,  East 54th Street,  Midtown East,  Manha...\n",
       "Name: geolocation, Length: 49350, dtype: object"
      ]
     },
     "execution_count": 112,
     "metadata": {},
     "output_type": "execute_result"
    }
   ],
   "source": [
    "df['geolocation']"
   ]
  },
  {
   "cell_type": "code",
   "execution_count": 113,
   "metadata": {},
   "outputs": [
    {
     "data": {
      "text/plain": [
       "['228',\n",
       " ' East 84th Street',\n",
       " ' Yorkville',\n",
       " ' Manhattan Community Board 8',\n",
       " ' Manhattan',\n",
       " ' New York County',\n",
       " ' New York',\n",
       " ' 10028',\n",
       " ' United States']"
      ]
     },
     "execution_count": 113,
     "metadata": {},
     "output_type": "execute_result"
    }
   ],
   "source": [
    "df['geolocation'][600]"
   ]
  },
  {
   "cell_type": "markdown",
   "metadata": {},
   "source": [
    "In the follwoing ouput we can see that there are some 'mistakes'. Unfortunately, sometimes the address also involves stores or restaurants which appear as the first index of the list of the geolocation data. For these we are not able to filter them out and have trop everythin that is not correct."
   ]
  },
  {
   "cell_type": "code",
   "execution_count": 114,
   "metadata": {},
   "outputs": [
    {
     "data": {
      "text/plain": [
       " New York           49253\n",
       " New Jersey            40\n",
       "Kings County           31\n",
       " New York County       17\n",
       " Kings County           7\n",
       " Hudson County          1\n",
       "Queens County           1\n",
       "Name: geolocation, dtype: int64"
      ]
     },
     "execution_count": 114,
     "metadata": {},
     "output_type": "execute_result"
    }
   ],
   "source": [
    "df['geolocation'].apply(lambda x: x[-3:][0]).value_counts() # most listings are from New York. Let us clean that data"
   ]
  },
  {
   "cell_type": "markdown",
   "metadata": {},
   "source": [
    "<a id='section3.1'></a>"
   ]
  },
  {
   "cell_type": "markdown",
   "metadata": {},
   "source": [
    "### 3.1 Counties"
   ]
  },
  {
   "cell_type": "markdown",
   "metadata": {},
   "source": [
    "One idea is to extract the seen counties. We can drop everthig that was not in the right index order as we need the data to be. Therefore everything will be dropped that is not ' New York'."
   ]
  },
  {
   "cell_type": "code",
   "execution_count": 129,
   "metadata": {},
   "outputs": [
    {
     "data": {
      "text/plain": [
       " New York County                                             42055\n",
       " Kings County                                                 4498\n",
       " Queens County                                                2044\n",
       " Bronx County                                                  359\n",
       " Hudson County                                                 290\n",
       " New York City Housing Authority Pelham Community Housing        4\n",
       " St. Andrews Village                                             2\n",
       " Mill Brook Houses                                               1\n",
       "Name: geolocation, dtype: int64"
      ]
     },
     "execution_count": 129,
     "metadata": {},
     "output_type": "execute_result"
    }
   ],
   "source": [
    "df = df[df['geolocation'].apply(lambda x: x[-3:][0] == ' New York' )] # keep only New York\n",
    "\n",
    "df['geolocation'].apply(lambda x: x[-4:][0]).value_counts() "
   ]
  },
  {
   "cell_type": "markdown",
   "metadata": {},
   "source": [
    "As we can see we are only left with the New York State counties. Maybe we could see if there is difference within the interest level for the different counties. "
   ]
  },
  {
   "cell_type": "code",
   "execution_count": 131,
   "metadata": {},
   "outputs": [
    {
     "data": {
      "image/png": "[encoded data removed]",
      "text/plain": [
       "<Figure size 1800x1080 with 1 Axes>"
      ]
     },
     "metadata": {
      "needs_background": "light"
     },
     "output_type": "display_data"
    }
   ],
   "source": [
    "df['county'] = df['geolocation'].apply(lambda x: x[-4:][0])# apply counties as extra column\n",
    "\n",
    "plt.figure(figsize=(25,15))\n",
    "sns.countplot(df['county'].astype('category'), hue = df['interest_level'])\n",
    "plt.show()"
   ]
  },
  {
   "cell_type": "markdown",
   "metadata": {},
   "source": [
    "Does not seem so, also the number occurences for the New York County is really high, maybe we should look even further into this. But before that, let us also look at the postcodes."
   ]
  },
  {
   "cell_type": "markdown",
   "metadata": {},
   "source": [
    "<a id='section3.2'></a>"
   ]
  },
  {
   "cell_type": "markdown",
   "metadata": {},
   "source": [
    "### 3.2 Postal Codes"
   ]
  },
  {
   "cell_type": "code",
   "execution_count": 132,
   "metadata": {},
   "outputs": [
    {
     "data": {
      "application/vnd.jupyter.widget-view+json": {
       "model_id": "5a949fcd60f84497bf0f15bec07d9616",
       "version_major": 2,
       "version_minor": 0
      },
      "text/plain": [
       "HBox(children=(FloatProgress(value=0.0, max=49253.0), HTML(value='')))"
      ]
     },
     "metadata": {},
     "output_type": "display_data"
    },
    {
     "name": "stdout",
     "output_type": "stream",
     "text": [
      "\n"
     ]
    }
   ],
   "source": [
    "df['postal'] = df['geolocation'].progress_apply(lambda x: x[-2:][0])"
   ]
  },
  {
   "cell_type": "code",
   "execution_count": 133,
   "metadata": {},
   "outputs": [],
   "source": [
    "df['postal']= df['postal'].apply(lambda x: x.split(':')[0])\n",
    "df['postal']= df['postal'].apply(lambda x: x.split('-')[0])"
   ]
  },
  {
   "cell_type": "code",
   "execution_count": 134,
   "metadata": {},
   "outputs": [
    {
     "data": {
      "text/plain": [
       "<matplotlib.axes._subplots.AxesSubplot at 0x1bf9830b6c8>"
      ]
     },
     "execution_count": 134,
     "metadata": {},
     "output_type": "execute_result"
    },
    {
     "data": {
      "image/png": "[encoded data removed]",
      "text/plain": [
       "<Figure size 432x288 with 1 Axes>"
      ]
     },
     "metadata": {
      "needs_background": "light"
     },
     "output_type": "display_data"
    }
   ],
   "source": [
    "# weird postcodes\n",
    "\n",
    "df['postal'] = pd.to_numeric(df['postal']) # because it is still string\n",
    "\n",
    "\n",
    "df = df [(df['postal'] > 10000) & (df['postal'] < 100000)] # drop wrong postal codes, must be 5 signs\n",
    "\n",
    "df['postal'] = (df['postal']) # make it category\n",
    "\n",
    "sns.boxplot(df['postal'])\n"
   ]
  },
  {
   "cell_type": "markdown",
   "metadata": {},
   "source": [
    "As we can see we are within New York, therefore these outliers are not eliminated. \n",
    "\n",
    "Maybe we should also look into the boroughs that are covered."
   ]
  },
  {
   "cell_type": "markdown",
   "metadata": {},
   "source": [
    "<a id='section3.3'></a>"
   ]
  },
  {
   "cell_type": "markdown",
   "metadata": {},
   "source": [
    "### 3.3 Boroughs"
   ]
  },
  {
   "cell_type": "code",
   "execution_count": 135,
   "metadata": {},
   "outputs": [
    {
     "data": {
      "image/png": "[encoded data removed]",
      "text/plain": [
       "<Figure size 720x288 with 1 Axes>"
      ]
     },
     "metadata": {
      "needs_background": "light"
     },
     "output_type": "display_data"
    }
   ],
   "source": [
    "df['boroughs'] = df['geolocation'].apply(lambda x: x[-5:][0]) # set column for boroughs\n",
    "# Drop others that include not the five boroughs that are in NYC\n",
    "df = df[df['boroughs'].apply(lambda x : x in [' Manhattan', ' Staten Island', ' Queens', ' Brooklyn', ' The Bronx'])]\n",
    "df['boroughs'] = df['boroughs'].astype('category') # make it categorical\n",
    "\n",
    "plt.figure(figsize=(10,4))\n",
    "sns.countplot(df['boroughs'], hue = df['interest_level'])\n",
    "plt.show()"
   ]
  },
  {
   "cell_type": "markdown",
   "metadata": {},
   "source": [
    "It seems that Manhattan has most of the entries. Maybe it would also be interesting to look into certain neighborhoods or communities within the city. These only apply for Manhattan, as these can be extracted from the geolocation. "
   ]
  },
  {
   "cell_type": "markdown",
   "metadata": {},
   "source": [
    "<a id='section3.4'></a>"
   ]
  },
  {
   "cell_type": "markdown",
   "metadata": {},
   "source": [
    "### 3.4 Neighborhoods"
   ]
  },
  {
   "cell_type": "code",
   "execution_count": 136,
   "metadata": {},
   "outputs": [],
   "source": [
    "# function to extract Manhatten communities\n",
    "def ext_neighborhood(text):\n",
    "    nb = re.findall(\".*Board.*\",text, re.MULTILINE) #regex to find every Manhattan board \n",
    "    return nb"
   ]
  },
  {
   "cell_type": "code",
   "execution_count": 137,
   "metadata": {},
   "outputs": [],
   "source": [
    "df['neighborhood'] = 'other'\n",
    "for row in df['geolocation'].index:\n",
    "    for i in range(len(df['geolocation'][row])): \n",
    "        found = ext_neighborhood(df['geolocation'][row][i])\n",
    "        if found != []:\n",
    "            df['neighborhood'][row] = found[0]\n",
    "            \n",
    "        else:\n",
    "            pass"
   ]
  },
  {
   "cell_type": "code",
   "execution_count": 138,
   "metadata": {},
   "outputs": [
    {
     "data": {
      "text/plain": [
       "other                            9256\n",
       " Manhattan Community Board 8     7584\n",
       " Manhattan Community Board 6     6464\n",
       " Manhattan Community Board 7     4496\n",
       " Manhattan Community Board 1     4093\n",
       " Manhattan Community Board 4     4070\n",
       " Manhattan Community Board 5     3155\n",
       " Manhattan Community Board 2     3089\n",
       " Manhattan Community Board 3     2896\n",
       " Manhattan Community Board 12    1175\n",
       " Manhattan Community Board 9      951\n",
       " Manhattan Community Board 11     814\n",
       " Manhattan Community Board 10     805\n",
       "Name: neighborhood, dtype: int64"
      ]
     },
     "execution_count": 138,
     "metadata": {},
     "output_type": "execute_result"
    }
   ],
   "source": [
    "df['neighborhood'].value_counts()"
   ]
  },
  {
   "cell_type": "markdown",
   "metadata": {},
   "source": [
    "<a id='section4'></a>"
   ]
  },
  {
   "cell_type": "markdown",
   "metadata": {},
   "source": [
    "## 4. Parks and subways"
   ]
  },
  {
   "cell_type": "markdown",
   "metadata": {},
   "source": [
    "What also could be of interest is the distance from the rented home to a park or subway which could increase the attractiveness for a certain home. For this we need to first check whether a park or subway was mentioned in the features or descriptions and then with the knowledge of the actual address of the home, we can calculate the distance to these options. We used the idea from the following kaggle book to integrate the steps into our notebook (see https://www.kaggle.com/chriscc/twosigmarenthop-advanced-feature-engineering)."
   ]
  },
  {
   "cell_type": "markdown",
   "metadata": {},
   "source": [
    "Since we were not able to integrate the data of the distances to certain subway or park clusters, we simply created dummies for 'park' and 'subway' as follows:"
   ]
  },
  {
   "cell_type": "code",
   "execution_count": 140,
   "metadata": {},
   "outputs": [],
   "source": [
    "df['park'] = 0\n",
    "for row in df.index:\n",
    "    if 'park' in str(df['description'][row]) or 'park' in str(df['features'][row]):\n",
    "        df['park'][row] = 1\n",
    "    elif 'Park' in str(df['description'][row]) or 'Park' in str(df['features'][row]):\n",
    "        df['park'][row] = 1\n",
    "    else:\n",
    "        df['park'][row] = 0"
   ]
  },
  {
   "cell_type": "code",
   "execution_count": 141,
   "metadata": {},
   "outputs": [],
   "source": [
    "df['subway'] = 0\n",
    "for row in df.index:\n",
    "    if 'subway' in str(df['description'][row]) or 'subway' in str(df['features'][row]):\n",
    "        df['subway'][row] = 1\n",
    "    elif 'Subway' in str(df['description'][row]) or 'Subway' in str(df['features'][row]):\n",
    "        df['subway'][row] = 1\n",
    "    else:\n",
    "        df['subway'][row] = 0"
   ]
  },
  {
   "cell_type": "code",
   "execution_count": 144,
   "metadata": {},
   "outputs": [
    {
     "name": "stdout",
     "output_type": "stream",
     "text": [
      "Validation OOB score 0.7264\n"
     ]
    }
   ],
   "source": [
    "X, y = df.drop(columns = [ 'building_id', 'created', 'description',\n",
    "       'display_address', 'features', 'listing_id','manager_id',\n",
    "        'photos',  'street_address', 'interest_level',\n",
    "       'date_created','date_converted', 'weekday','cleaned_description',\n",
    "        'features_lower', 'geo',\n",
    "       'cleaned_features', 'geolocation', 'county', 'boroughs', 'postal', 'neighborhood']), df['interest_level']\n",
    "rf = RandomForestClassifier(n_estimators=100,\n",
    "                           n_jobs=-1,        # parallelize\n",
    "                           oob_score=True)   # get error estimate\n",
    "rf.fit(X, y)\n",
    "clean_oob_r2 = rf.oob_score_\n",
    "print(f\"Validation OOB score {clean_oob_r2:.4f}\")"
   ]
  },
  {
   "cell_type": "markdown",
   "metadata": {},
   "source": [
    "<a id='section5'></a>"
   ]
  },
  {
   "cell_type": "markdown",
   "metadata": {},
   "source": [
    "## 5. Managers "
   ]
  },
  {
   "cell_type": "markdown",
   "metadata": {},
   "source": [
    "We also found following notebook regarding features of the managers column https://www.kaggle.com/den3b81/improve-perfomances-using-manager-features. Here, they calculate the fractions a specific manager is in the low, medium or high interest segment. For this they group the data by manager after getting dummies of the interest level. They also included the count how many times a manager is rsponsible for a listing. "
   ]
  },
  {
   "cell_type": "code",
   "execution_count": 546,
   "metadata": {},
   "outputs": [],
   "source": [
    "lbl = preprocessing.LabelEncoder()\n",
    "lbl.fit(df['manager_id'].values)\n",
    "df['manager_id'] = lbl.transform(df['manager_id'].values)"
   ]
  },
  {
   "cell_type": "code",
   "execution_count": 547,
   "metadata": {},
   "outputs": [
    {
     "data": {
      "text/plain": [
       "3128    2499\n",
       "1496     704\n",
       "1950     401\n",
       "1336     396\n",
       "2778     373\n",
       "        ... \n",
       "3258       1\n",
       "2349       1\n",
       "396        1\n",
       "428        1\n",
       "1807       1\n",
       "Name: manager_id, Length: 3474, dtype: int64"
      ]
     },
     "execution_count": 547,
     "metadata": {},
     "output_type": "execute_result"
    }
   ],
   "source": [
    "df['manager_id'].value_counts()"
   ]
  },
  {
   "cell_type": "code",
   "execution_count": 548,
   "metadata": {},
   "outputs": [
    {
     "name": "stdout",
     "output_type": "stream",
     "text": [
      "            high_frac  low_frac  medium_frac  count\n",
      "manager_id                                         \n",
      "3464         0.000000  0.666667     0.333333      3\n",
      "3465         0.625000  0.250000     0.125000      8\n",
      "3466         0.000000  1.000000     0.000000      1\n",
      "3467         0.000000  1.000000     0.000000      1\n",
      "3468         0.142857  0.714286     0.142857      7\n",
      "3469         0.000000  1.000000     0.000000      1\n",
      "3470         0.000000  1.000000     0.000000      7\n",
      "3471         0.000000  1.000000     0.000000      2\n",
      "3472         0.142857  0.714286     0.142857      7\n",
      "3473         0.034783  0.669565     0.295652    115\n"
     ]
    }
   ],
   "source": [
    "man = pd.concat([df.manager_id,pd.get_dummies(df['interest_level'])], axis = 1).groupby('manager_id').mean()\n",
    "man.columns = ['high_frac','low_frac', 'medium_frac']\n",
    "man['count'] = df.groupby('manager_id').count().iloc[:,1]\n",
    "print(man.tail(10))"
   ]
  },
  {
   "cell_type": "markdown",
   "metadata": {},
   "source": [
    "From these fractions it is possible to evaluate the manager skill which was calculated in the exmaple as follows:"
   ]
  },
  {
   "cell_type": "code",
   "execution_count": 549,
   "metadata": {},
   "outputs": [
    {
     "name": "stdout",
     "output_type": "stream",
     "text": [
      "            high_frac  low_frac  medium_frac  count  manager_skill\n",
      "manager_id                                                        \n",
      "0            0.000000  0.333333     0.666667     12       0.666667\n",
      "1            0.000000  1.000000     0.000000     10       0.000000\n",
      "2            0.000000  1.000000     0.000000      1       0.000000\n",
      "3            0.000000  0.000000     1.000000      2       1.000000\n",
      "4            0.000000  0.666667     0.333333      3       0.333333\n",
      "...               ...       ...          ...    ...            ...\n",
      "3469         0.000000  1.000000     0.000000      1       0.000000\n",
      "3470         0.000000  1.000000     0.000000      7       0.000000\n",
      "3471         0.000000  1.000000     0.000000      2       0.000000\n",
      "3472         0.142857  0.714286     0.142857      7       0.428571\n",
      "3473         0.034783  0.669565     0.295652    115       0.365217\n",
      "\n",
      "[3474 rows x 5 columns]\n"
     ]
    }
   ],
   "source": [
    "# compute skill\n",
    "man['manager_skill'] = man['high_frac']*2 + man['medium_frac']\n",
    "print(man)"
   ]
  },
  {
   "cell_type": "markdown",
   "metadata": {},
   "source": [
    "They also ranked these managers then by their count later on. Managers that did not have a count over 20 were imputet with the values of the ranked managers. "
   ]
  },
  {
   "cell_type": "code",
   "execution_count": 550,
   "metadata": {},
   "outputs": [
    {
     "name": "stdout",
     "output_type": "stream",
     "text": [
      "high_frac        0.088391\n",
      "low_frac         0.730429\n",
      "medium_frac      0.181180\n",
      "manager_skill    0.357962\n",
      "dtype: float64\n",
      "            high_frac  low_frac  medium_frac  count  manager_skill\n",
      "manager_id                                                        \n",
      "3464         0.000000  0.666667     0.333333      3       0.333333\n",
      "3465         0.625000  0.250000     0.125000      8       1.375000\n",
      "3466         0.000000  1.000000     0.000000      1       0.000000\n",
      "3467         0.000000  1.000000     0.000000      1       0.000000\n",
      "3468         0.142857  0.714286     0.142857      7       0.428571\n",
      "3469         0.000000  1.000000     0.000000      1       0.000000\n",
      "3470         0.000000  1.000000     0.000000      7       0.000000\n",
      "3471         0.000000  1.000000     0.000000      2       0.000000\n",
      "3472         0.142857  0.714286     0.142857      7       0.428571\n",
      "3473         0.088391  0.730429     0.181180    115       0.357962\n"
     ]
    }
   ],
   "source": [
    "# get ixes for unranked managers...\n",
    "unranked_managers_ixes = man['count']>20\n",
    "# ... and ranked ones\n",
    "ranked_managers_ixes = ~unranked_managers_ixes\n",
    "\n",
    "# compute mean values from ranked managers and assign them to unranked ones\n",
    "mean_values = man.loc[ranked_managers_ixes, ['high_frac','low_frac', 'medium_frac','manager_skill']].mean()\n",
    "print(mean_values)\n",
    "man.loc[unranked_managers_ixes,['high_frac','low_frac', 'medium_frac','manager_skill']] = mean_values.values\n",
    "print(man.tail(10))"
   ]
  },
  {
   "cell_type": "code",
   "execution_count": 551,
   "metadata": {},
   "outputs": [
    {
     "data": {
      "text/html": [
       "<div>\n",
       "<style scoped>\n",
       "    .dataframe tbody tr th:only-of-type {\n",
       "        vertical-align: middle;\n",
       "    }\n",
       "\n",
       "    .dataframe tbody tr th {\n",
       "        vertical-align: top;\n",
       "    }\n",
       "\n",
       "    .dataframe thead th {\n",
       "        text-align: right;\n",
       "    }\n",
       "</style>\n",
       "<table border=\"1\" class=\"dataframe\">\n",
       "  <thead>\n",
       "    <tr style=\"text-align: right;\">\n",
       "      <th></th>\n",
       "      <th>bathrooms</th>\n",
       "      <th>bedrooms</th>\n",
       "      <th>building_id</th>\n",
       "      <th>created</th>\n",
       "      <th>description</th>\n",
       "      <th>display_address</th>\n",
       "      <th>features</th>\n",
       "      <th>latitude</th>\n",
       "      <th>listing_id</th>\n",
       "      <th>longitude</th>\n",
       "      <th>...</th>\n",
       "      <th>avg_price_postal</th>\n",
       "      <th>avg_price_boroughs</th>\n",
       "      <th>avg_price_county</th>\n",
       "      <th>sqrt_price</th>\n",
       "      <th>log_price</th>\n",
       "      <th>high_frac</th>\n",
       "      <th>low_frac</th>\n",
       "      <th>medium_frac</th>\n",
       "      <th>count</th>\n",
       "      <th>manager_skill</th>\n",
       "    </tr>\n",
       "  </thead>\n",
       "  <tbody>\n",
       "    <tr>\n",
       "      <th>0</th>\n",
       "      <td>1</td>\n",
       "      <td>1</td>\n",
       "      <td>8579a0b0d54db803821a35a4a615e97a</td>\n",
       "      <td>1466056527000</td>\n",
       "      <td>Spacious 1 Bedroom 1 Bathroom in Williamsburg!...</td>\n",
       "      <td>145 Borinquen Place</td>\n",
       "      <td>[Dining Room, Pre-War, Laundry in Building, Di...</td>\n",
       "      <td>40.7108</td>\n",
       "      <td>7170325</td>\n",
       "      <td>-73.9539</td>\n",
       "      <td>...</td>\n",
       "      <td>86</td>\n",
       "      <td>2</td>\n",
       "      <td>5</td>\n",
       "      <td>48.989795</td>\n",
       "      <td>7.783224</td>\n",
       "      <td>0.088391</td>\n",
       "      <td>0.730429</td>\n",
       "      <td>0.181180</td>\n",
       "      <td>112</td>\n",
       "      <td>0.357962</td>\n",
       "    </tr>\n",
       "    <tr>\n",
       "      <th>1</th>\n",
       "      <td>1</td>\n",
       "      <td>2</td>\n",
       "      <td>b8e75fc949a6cd8225b455648a951712</td>\n",
       "      <td>1464759873000</td>\n",
       "      <td>BRAND NEW GUT RENOVATED TRUE 2 BEDROOMFind you...</td>\n",
       "      <td>East 44th</td>\n",
       "      <td>[Doorman, Elevator, Laundry in Building, Dishw...</td>\n",
       "      <td>40.7513</td>\n",
       "      <td>7092344</td>\n",
       "      <td>-73.9722</td>\n",
       "      <td>...</td>\n",
       "      <td>112</td>\n",
       "      <td>3</td>\n",
       "      <td>6</td>\n",
       "      <td>61.644140</td>\n",
       "      <td>8.242756</td>\n",
       "      <td>0.088391</td>\n",
       "      <td>0.730429</td>\n",
       "      <td>0.181180</td>\n",
       "      <td>25</td>\n",
       "      <td>0.357962</td>\n",
       "    </tr>\n",
       "    <tr>\n",
       "      <th>2</th>\n",
       "      <td>1</td>\n",
       "      <td>2</td>\n",
       "      <td>cd759a988b8f23924b5a2058d5ab2b49</td>\n",
       "      <td>1465917599000</td>\n",
       "      <td>**FLEX 2 BEDROOM WITH FULL PRESSURIZED WALL**L...</td>\n",
       "      <td>East 56th Street</td>\n",
       "      <td>[Doorman, Elevator, Laundry in Building, Laund...</td>\n",
       "      <td>40.7575</td>\n",
       "      <td>7158677</td>\n",
       "      <td>-73.9625</td>\n",
       "      <td>...</td>\n",
       "      <td>113</td>\n",
       "      <td>3</td>\n",
       "      <td>6</td>\n",
       "      <td>59.118525</td>\n",
       "      <td>8.159089</td>\n",
       "      <td>0.088391</td>\n",
       "      <td>0.730429</td>\n",
       "      <td>0.181180</td>\n",
       "      <td>90</td>\n",
       "      <td>0.357962</td>\n",
       "    </tr>\n",
       "    <tr>\n",
       "      <th>3</th>\n",
       "      <td>2</td>\n",
       "      <td>3</td>\n",
       "      <td>53a5b119ba8f7b61d4e010512e0dfc85</td>\n",
       "      <td>1466754864000</td>\n",
       "      <td>A Brand New 3 Bedroom 1.5 bath ApartmentEnjoy ...</td>\n",
       "      <td>Metropolitan Avenue</td>\n",
       "      <td>[]</td>\n",
       "      <td>40.7145</td>\n",
       "      <td>7211212</td>\n",
       "      <td>-73.9425</td>\n",
       "      <td>...</td>\n",
       "      <td>86</td>\n",
       "      <td>2</td>\n",
       "      <td>5</td>\n",
       "      <td>54.772256</td>\n",
       "      <td>8.006368</td>\n",
       "      <td>0.088391</td>\n",
       "      <td>0.730429</td>\n",
       "      <td>0.181180</td>\n",
       "      <td>90</td>\n",
       "      <td>0.357962</td>\n",
       "    </tr>\n",
       "    <tr>\n",
       "      <th>4</th>\n",
       "      <td>1</td>\n",
       "      <td>0</td>\n",
       "      <td>bfb9405149bfff42a92980b594c28234</td>\n",
       "      <td>1467085823000</td>\n",
       "      <td>Over-sized Studio w abundant closets. Availabl...</td>\n",
       "      <td>East 34th Street</td>\n",
       "      <td>[Doorman, Elevator, Fitness Center, Laundry in...</td>\n",
       "      <td>40.7439</td>\n",
       "      <td>7225292</td>\n",
       "      <td>-73.9743</td>\n",
       "      <td>...</td>\n",
       "      <td>109</td>\n",
       "      <td>3</td>\n",
       "      <td>6</td>\n",
       "      <td>52.867760</td>\n",
       "      <td>7.935587</td>\n",
       "      <td>0.088391</td>\n",
       "      <td>0.730429</td>\n",
       "      <td>0.181180</td>\n",
       "      <td>55</td>\n",
       "      <td>0.357962</td>\n",
       "    </tr>\n",
       "    <tr>\n",
       "      <th>5</th>\n",
       "      <td>1</td>\n",
       "      <td>3</td>\n",
       "      <td>300d27d8ba2adbcbc8c6f2bcbc1c6f9d</td>\n",
       "      <td>1467093546000</td>\n",
       "      <td>This spectacular converted 3 bed apartment all...</td>\n",
       "      <td>East 16th Street</td>\n",
       "      <td>[Doorman, Elevator, Loft, Dishwasher, Hardwood...</td>\n",
       "      <td>40.7348</td>\n",
       "      <td>7226687</td>\n",
       "      <td>-73.9865</td>\n",
       "      <td>...</td>\n",
       "      <td>119</td>\n",
       "      <td>3</td>\n",
       "      <td>6</td>\n",
       "      <td>84.852814</td>\n",
       "      <td>8.881836</td>\n",
       "      <td>0.088391</td>\n",
       "      <td>0.730429</td>\n",
       "      <td>0.181180</td>\n",
       "      <td>168</td>\n",
       "      <td>0.357962</td>\n",
       "    </tr>\n",
       "    <tr>\n",
       "      <th>6</th>\n",
       "      <td>3</td>\n",
       "      <td>3</td>\n",
       "      <td>0d01cabe55fa5192cdbcabd5c585c1ea</td>\n",
       "      <td>1465366896000</td>\n",
       "      <td>AMAZING DEAL!! BRAND NEW RENOVATIONS IN THIS H...</td>\n",
       "      <td>East 13th Street</td>\n",
       "      <td>[Fireplace, Laundry in Unit, Dishwasher, Hardw...</td>\n",
       "      <td>40.7302</td>\n",
       "      <td>7126989</td>\n",
       "      <td>-73.9826</td>\n",
       "      <td>...</td>\n",
       "      <td>108</td>\n",
       "      <td>3</td>\n",
       "      <td>6</td>\n",
       "      <td>77.459667</td>\n",
       "      <td>8.699515</td>\n",
       "      <td>0.088391</td>\n",
       "      <td>0.730429</td>\n",
       "      <td>0.181180</td>\n",
       "      <td>161</td>\n",
       "      <td>0.357962</td>\n",
       "    </tr>\n",
       "    <tr>\n",
       "      <th>7</th>\n",
       "      <td>1</td>\n",
       "      <td>0</td>\n",
       "      <td>d48767c37a934daaf0bbb0e58c755d0c</td>\n",
       "      <td>1465104502000</td>\n",
       "      <td>No Fee Large Renovated Sun Splashed Studio. Wa...</td>\n",
       "      <td>York Avenue</td>\n",
       "      <td>[Elevator, Laundry in Building, Dishwasher, Ha...</td>\n",
       "      <td>40.7769</td>\n",
       "      <td>7114138</td>\n",
       "      <td>-73.9467</td>\n",
       "      <td>...</td>\n",
       "      <td>89</td>\n",
       "      <td>3</td>\n",
       "      <td>6</td>\n",
       "      <td>44.102154</td>\n",
       "      <td>7.573017</td>\n",
       "      <td>0.088391</td>\n",
       "      <td>0.730429</td>\n",
       "      <td>0.181180</td>\n",
       "      <td>122</td>\n",
       "      <td>0.357962</td>\n",
       "    </tr>\n",
       "    <tr>\n",
       "      <th>8</th>\n",
       "      <td>0</td>\n",
       "      <td>1</td>\n",
       "      <td>d1ca33a2853e64fad6e4009d5d5d168f</td>\n",
       "      <td>1465447323000</td>\n",
       "      <td>Extra large one bedroom apartment located in P...</td>\n",
       "      <td>E 19 Street</td>\n",
       "      <td>[Hardwood Floors]</td>\n",
       "      <td>40.7346</td>\n",
       "      <td>7131094</td>\n",
       "      <td>-73.9811</td>\n",
       "      <td>...</td>\n",
       "      <td>119</td>\n",
       "      <td>3</td>\n",
       "      <td>6</td>\n",
       "      <td>49.345719</td>\n",
       "      <td>7.797702</td>\n",
       "      <td>0.088391</td>\n",
       "      <td>0.730429</td>\n",
       "      <td>0.181180</td>\n",
       "      <td>35</td>\n",
       "      <td>0.357962</td>\n",
       "    </tr>\n",
       "    <tr>\n",
       "      <th>9</th>\n",
       "      <td>5</td>\n",
       "      <td>3</td>\n",
       "      <td>5f35dc2f0191baf109221752e6ee0c48</td>\n",
       "      <td>1467084378000</td>\n",
       "      <td>Listed: 06/26/16&lt;br /&gt;&lt;br /&gt;Available:...</td>\n",
       "      <td>Hicks Street</td>\n",
       "      <td>[Cats Allowed, Dogs Allowed]</td>\n",
       "      <td>40.6990</td>\n",
       "      <td>7224815</td>\n",
       "      <td>-73.9943</td>\n",
       "      <td>...</td>\n",
       "      <td>94</td>\n",
       "      <td>2</td>\n",
       "      <td>5</td>\n",
       "      <td>82.764727</td>\n",
       "      <td>8.832004</td>\n",
       "      <td>0.088391</td>\n",
       "      <td>0.730429</td>\n",
       "      <td>0.181180</td>\n",
       "      <td>36</td>\n",
       "      <td>0.357962</td>\n",
       "    </tr>\n",
       "    <tr>\n",
       "      <th>10</th>\n",
       "      <td>1</td>\n",
       "      <td>0</td>\n",
       "      <td>e74f18ba1001ceae531209fbdc702a58</td>\n",
       "      <td>1465006887000</td>\n",
       "      <td>Location: Upper East SideAmazing studio with h...</td>\n",
       "      <td>E 80th St.\\r</td>\n",
       "      <td>[Doorman, Elevator, Laundry in Building, Dogs ...</td>\n",
       "      <td>40.7723</td>\n",
       "      <td>7107333</td>\n",
       "      <td>-73.9510</td>\n",
       "      <td>...</td>\n",
       "      <td>110</td>\n",
       "      <td>3</td>\n",
       "      <td>6</td>\n",
       "      <td>52.773099</td>\n",
       "      <td>7.932003</td>\n",
       "      <td>0.088391</td>\n",
       "      <td>0.730429</td>\n",
       "      <td>0.181180</td>\n",
       "      <td>33</td>\n",
       "      <td>0.357962</td>\n",
       "    </tr>\n",
       "    <tr>\n",
       "      <th>11</th>\n",
       "      <td>1</td>\n",
       "      <td>2</td>\n",
       "      <td>d0234abbc01a982d54e8d446acc03405</td>\n",
       "      <td>1464749482000</td>\n",
       "      <td>No Fee!! This luxurious building offers apartm...</td>\n",
       "      <td>W 34 St.</td>\n",
       "      <td>[Roof Deck, Doorman, Elevator, Fitness Center,...</td>\n",
       "      <td>40.7530</td>\n",
       "      <td>7088993</td>\n",
       "      <td>-73.9959</td>\n",
       "      <td>...</td>\n",
       "      <td>116</td>\n",
       "      <td>3</td>\n",
       "      <td>6</td>\n",
       "      <td>55.677644</td>\n",
       "      <td>8.039157</td>\n",
       "      <td>0.000000</td>\n",
       "      <td>0.333333</td>\n",
       "      <td>0.666667</td>\n",
       "      <td>6</td>\n",
       "      <td>0.666667</td>\n",
       "    </tr>\n",
       "    <tr>\n",
       "      <th>12</th>\n",
       "      <td>1</td>\n",
       "      <td>0</td>\n",
       "      <td>2787598123c55dbf45b514958909c79c</td>\n",
       "      <td>1466832510000</td>\n",
       "      <td>This is a luxurious JR 1 bedroom with tons of ...</td>\n",
       "      <td>West 42nd Street</td>\n",
       "      <td>[Swimming Pool, Roof Deck, Doorman, Elevator, ...</td>\n",
       "      <td>40.7610</td>\n",
       "      <td>7216312</td>\n",
       "      <td>-73.9990</td>\n",
       "      <td>...</td>\n",
       "      <td>96</td>\n",
       "      <td>3</td>\n",
       "      <td>6</td>\n",
       "      <td>48.989795</td>\n",
       "      <td>7.783224</td>\n",
       "      <td>0.088391</td>\n",
       "      <td>0.730429</td>\n",
       "      <td>0.181180</td>\n",
       "      <td>114</td>\n",
       "      <td>0.357962</td>\n",
       "    </tr>\n",
       "    <tr>\n",
       "      <th>13</th>\n",
       "      <td>1</td>\n",
       "      <td>1</td>\n",
       "      <td>bbc28059df5e21c49c103c46743631d4</td>\n",
       "      <td>1465616813000</td>\n",
       "      <td>This large 1 bedroom is located in the heart o...</td>\n",
       "      <td>Thompson St.</td>\n",
       "      <td>[Hardwood Floors]</td>\n",
       "      <td>40.7277</td>\n",
       "      <td>7140668</td>\n",
       "      <td>-74.0000</td>\n",
       "      <td>...</td>\n",
       "      <td>122</td>\n",
       "      <td>3</td>\n",
       "      <td>6</td>\n",
       "      <td>52.440442</td>\n",
       "      <td>7.919356</td>\n",
       "      <td>0.088391</td>\n",
       "      <td>0.730429</td>\n",
       "      <td>0.181180</td>\n",
       "      <td>38</td>\n",
       "      <td>0.357962</td>\n",
       "    </tr>\n",
       "    <tr>\n",
       "      <th>14</th>\n",
       "      <td>3</td>\n",
       "      <td>2</td>\n",
       "      <td>810ddef9046abe7bd8278944c5809ae8</td>\n",
       "      <td>1465619079000</td>\n",
       "      <td>Renovated 3 bedroom/2 bath with open-concept k...</td>\n",
       "      <td>E 65 Street</td>\n",
       "      <td>[Doorman, Elevator, Laundry in Building, Dishw...</td>\n",
       "      <td>40.7633</td>\n",
       "      <td>7141160</td>\n",
       "      <td>-73.9596</td>\n",
       "      <td>...</td>\n",
       "      <td>103</td>\n",
       "      <td>3</td>\n",
       "      <td>6</td>\n",
       "      <td>73.925638</td>\n",
       "      <td>8.606119</td>\n",
       "      <td>0.088391</td>\n",
       "      <td>0.730429</td>\n",
       "      <td>0.181180</td>\n",
       "      <td>39</td>\n",
       "      <td>0.357962</td>\n",
       "    </tr>\n",
       "    <tr>\n",
       "      <th>15</th>\n",
       "      <td>1</td>\n",
       "      <td>0</td>\n",
       "      <td>667d42b4651d26307c3f103a32cdb309</td>\n",
       "      <td>1466417692000</td>\n",
       "      <td>BRIGHT &amp;  LARGE STUDIO  APARTMENT + OUTDOOR SP...</td>\n",
       "      <td>Division Avenue</td>\n",
       "      <td>[Reduced Fee]</td>\n",
       "      <td>40.7073</td>\n",
       "      <td>7753784</td>\n",
       "      <td>-73.9665</td>\n",
       "      <td>...</td>\n",
       "      <td>104</td>\n",
       "      <td>2</td>\n",
       "      <td>5</td>\n",
       "      <td>56.124861</td>\n",
       "      <td>8.055158</td>\n",
       "      <td>0.088391</td>\n",
       "      <td>0.730429</td>\n",
       "      <td>0.181180</td>\n",
       "      <td>21</td>\n",
       "      <td>0.357962</td>\n",
       "    </tr>\n",
       "    <tr>\n",
       "      <th>16</th>\n",
       "      <td>1</td>\n",
       "      <td>2</td>\n",
       "      <td>437454e6d44ae7c94f60b1b6507d084a</td>\n",
       "      <td>1465617560000</td>\n",
       "      <td>THIS IS A GREAT DEAL FOR A SPACIOUS, BRIGHT AP...</td>\n",
       "      <td>E 46 Street</td>\n",
       "      <td>[Doorman, Elevator, Hardwood Floors]</td>\n",
       "      <td>40.7528</td>\n",
       "      <td>7140840</td>\n",
       "      <td>-73.9709</td>\n",
       "      <td>...</td>\n",
       "      <td>112</td>\n",
       "      <td>3</td>\n",
       "      <td>6</td>\n",
       "      <td>61.237244</td>\n",
       "      <td>8.229511</td>\n",
       "      <td>0.083333</td>\n",
       "      <td>0.666667</td>\n",
       "      <td>0.250000</td>\n",
       "      <td>12</td>\n",
       "      <td>0.416667</td>\n",
       "    </tr>\n",
       "    <tr>\n",
       "      <th>17</th>\n",
       "      <td>1</td>\n",
       "      <td>3</td>\n",
       "      <td>720302695e3e7d3d04275cd640fe58e4</td>\n",
       "      <td>1466063028000</td>\n",
       "      <td>NO BROKER'S FEE!!! ALL UTILITIES FREE: HEAT, W...</td>\n",
       "      <td>18TH STREET</td>\n",
       "      <td>[Common Outdoor Space, Cats Allowed, Dogs Allo...</td>\n",
       "      <td>40.7360</td>\n",
       "      <td>7172046</td>\n",
       "      <td>-73.9860</td>\n",
       "      <td>...</td>\n",
       "      <td>119</td>\n",
       "      <td>3</td>\n",
       "      <td>6</td>\n",
       "      <td>66.708320</td>\n",
       "      <td>8.400659</td>\n",
       "      <td>1.000000</td>\n",
       "      <td>0.000000</td>\n",
       "      <td>0.000000</td>\n",
       "      <td>1</td>\n",
       "      <td>2.000000</td>\n",
       "    </tr>\n",
       "    <tr>\n",
       "      <th>18</th>\n",
       "      <td>1</td>\n",
       "      <td>1</td>\n",
       "      <td>530db036533ea851fabd1c5e7b9bc3d0</td>\n",
       "      <td>1466047437000</td>\n",
       "      <td>Beautiful  1BR in the Upper West SideAmenities...</td>\n",
       "      <td>W 77 Street</td>\n",
       "      <td>[Hardwood Floors]</td>\n",
       "      <td>40.7830</td>\n",
       "      <td>7168225</td>\n",
       "      <td>-73.9828</td>\n",
       "      <td>...</td>\n",
       "      <td>125</td>\n",
       "      <td>3</td>\n",
       "      <td>6</td>\n",
       "      <td>56.568542</td>\n",
       "      <td>8.070906</td>\n",
       "      <td>0.088391</td>\n",
       "      <td>0.730429</td>\n",
       "      <td>0.181180</td>\n",
       "      <td>25</td>\n",
       "      <td>0.357962</td>\n",
       "    </tr>\n",
       "    <tr>\n",
       "      <th>19</th>\n",
       "      <td>1</td>\n",
       "      <td>1</td>\n",
       "      <td>0</td>\n",
       "      <td>1466818536000</td>\n",
       "      <td>DISCLAIMER: Photos are of similar unit. Great,...</td>\n",
       "      <td>Main Street</td>\n",
       "      <td>[Doorman]</td>\n",
       "      <td>40.7621</td>\n",
       "      <td>7213185</td>\n",
       "      <td>-73.9486</td>\n",
       "      <td>...</td>\n",
       "      <td>84</td>\n",
       "      <td>3</td>\n",
       "      <td>6</td>\n",
       "      <td>49.949975</td>\n",
       "      <td>7.822044</td>\n",
       "      <td>0.000000</td>\n",
       "      <td>1.000000</td>\n",
       "      <td>0.000000</td>\n",
       "      <td>8</td>\n",
       "      <td>0.000000</td>\n",
       "    </tr>\n",
       "  </tbody>\n",
       "</table>\n",
       "<p>20 rows × 105 columns</p>\n",
       "</div>"
      ],
      "text/plain": [
       "    bathrooms  bedrooms                       building_id        created  \\\n",
       "0           1         1  8579a0b0d54db803821a35a4a615e97a  1466056527000   \n",
       "1           1         2  b8e75fc949a6cd8225b455648a951712  1464759873000   \n",
       "2           1         2  cd759a988b8f23924b5a2058d5ab2b49  1465917599000   \n",
       "3           2         3  53a5b119ba8f7b61d4e010512e0dfc85  1466754864000   \n",
       "4           1         0  bfb9405149bfff42a92980b594c28234  1467085823000   \n",
       "5           1         3  300d27d8ba2adbcbc8c6f2bcbc1c6f9d  1467093546000   \n",
       "6           3         3  0d01cabe55fa5192cdbcabd5c585c1ea  1465366896000   \n",
       "7           1         0  d48767c37a934daaf0bbb0e58c755d0c  1465104502000   \n",
       "8           0         1  d1ca33a2853e64fad6e4009d5d5d168f  1465447323000   \n",
       "9           5         3  5f35dc2f0191baf109221752e6ee0c48  1467084378000   \n",
       "10          1         0  e74f18ba1001ceae531209fbdc702a58  1465006887000   \n",
       "11          1         2  d0234abbc01a982d54e8d446acc03405  1464749482000   \n",
       "12          1         0  2787598123c55dbf45b514958909c79c  1466832510000   \n",
       "13          1         1  bbc28059df5e21c49c103c46743631d4  1465616813000   \n",
       "14          3         2  810ddef9046abe7bd8278944c5809ae8  1465619079000   \n",
       "15          1         0  667d42b4651d26307c3f103a32cdb309  1466417692000   \n",
       "16          1         2  437454e6d44ae7c94f60b1b6507d084a  1465617560000   \n",
       "17          1         3  720302695e3e7d3d04275cd640fe58e4  1466063028000   \n",
       "18          1         1  530db036533ea851fabd1c5e7b9bc3d0  1466047437000   \n",
       "19          1         1                                 0  1466818536000   \n",
       "\n",
       "                                          description      display_address  \\\n",
       "0   Spacious 1 Bedroom 1 Bathroom in Williamsburg!...  145 Borinquen Place   \n",
       "1   BRAND NEW GUT RENOVATED TRUE 2 BEDROOMFind you...            East 44th   \n",
       "2   **FLEX 2 BEDROOM WITH FULL PRESSURIZED WALL**L...     East 56th Street   \n",
       "3   A Brand New 3 Bedroom 1.5 bath ApartmentEnjoy ...  Metropolitan Avenue   \n",
       "4   Over-sized Studio w abundant closets. Availabl...     East 34th Street   \n",
       "5   This spectacular converted 3 bed apartment all...     East 16th Street   \n",
       "6   AMAZING DEAL!! BRAND NEW RENOVATIONS IN THIS H...     East 13th Street   \n",
       "7   No Fee Large Renovated Sun Splashed Studio. Wa...          York Avenue   \n",
       "8   Extra large one bedroom apartment located in P...          E 19 Street   \n",
       "9           Listed: 06/26/16<br /><br />Available:...         Hicks Street   \n",
       "10  Location: Upper East SideAmazing studio with h...         E 80th St.\\r   \n",
       "11  No Fee!! This luxurious building offers apartm...             W 34 St.   \n",
       "12  This is a luxurious JR 1 bedroom with tons of ...     West 42nd Street   \n",
       "13  This large 1 bedroom is located in the heart o...         Thompson St.   \n",
       "14  Renovated 3 bedroom/2 bath with open-concept k...          E 65 Street   \n",
       "15  BRIGHT &  LARGE STUDIO  APARTMENT + OUTDOOR SP...      Division Avenue   \n",
       "16  THIS IS A GREAT DEAL FOR A SPACIOUS, BRIGHT AP...          E 46 Street   \n",
       "17  NO BROKER'S FEE!!! ALL UTILITIES FREE: HEAT, W...          18TH STREET   \n",
       "18  Beautiful  1BR in the Upper West SideAmenities...          W 77 Street   \n",
       "19  DISCLAIMER: Photos are of similar unit. Great,...          Main Street   \n",
       "\n",
       "                                             features  latitude  listing_id  \\\n",
       "0   [Dining Room, Pre-War, Laundry in Building, Di...   40.7108     7170325   \n",
       "1   [Doorman, Elevator, Laundry in Building, Dishw...   40.7513     7092344   \n",
       "2   [Doorman, Elevator, Laundry in Building, Laund...   40.7575     7158677   \n",
       "3                                                  []   40.7145     7211212   \n",
       "4   [Doorman, Elevator, Fitness Center, Laundry in...   40.7439     7225292   \n",
       "5   [Doorman, Elevator, Loft, Dishwasher, Hardwood...   40.7348     7226687   \n",
       "6   [Fireplace, Laundry in Unit, Dishwasher, Hardw...   40.7302     7126989   \n",
       "7   [Elevator, Laundry in Building, Dishwasher, Ha...   40.7769     7114138   \n",
       "8                                   [Hardwood Floors]   40.7346     7131094   \n",
       "9                        [Cats Allowed, Dogs Allowed]   40.6990     7224815   \n",
       "10  [Doorman, Elevator, Laundry in Building, Dogs ...   40.7723     7107333   \n",
       "11  [Roof Deck, Doorman, Elevator, Fitness Center,...   40.7530     7088993   \n",
       "12  [Swimming Pool, Roof Deck, Doorman, Elevator, ...   40.7610     7216312   \n",
       "13                                  [Hardwood Floors]   40.7277     7140668   \n",
       "14  [Doorman, Elevator, Laundry in Building, Dishw...   40.7633     7141160   \n",
       "15                                      [Reduced Fee]   40.7073     7753784   \n",
       "16               [Doorman, Elevator, Hardwood Floors]   40.7528     7140840   \n",
       "17  [Common Outdoor Space, Cats Allowed, Dogs Allo...   40.7360     7172046   \n",
       "18                                  [Hardwood Floors]   40.7830     7168225   \n",
       "19                                          [Doorman]   40.7621     7213185   \n",
       "\n",
       "    longitude  ...  avg_price_postal avg_price_boroughs  avg_price_county  \\\n",
       "0    -73.9539  ...                86                  2                 5   \n",
       "1    -73.9722  ...               112                  3                 6   \n",
       "2    -73.9625  ...               113                  3                 6   \n",
       "3    -73.9425  ...                86                  2                 5   \n",
       "4    -73.9743  ...               109                  3                 6   \n",
       "5    -73.9865  ...               119                  3                 6   \n",
       "6    -73.9826  ...               108                  3                 6   \n",
       "7    -73.9467  ...                89                  3                 6   \n",
       "8    -73.9811  ...               119                  3                 6   \n",
       "9    -73.9943  ...                94                  2                 5   \n",
       "10   -73.9510  ...               110                  3                 6   \n",
       "11   -73.9959  ...               116                  3                 6   \n",
       "12   -73.9990  ...                96                  3                 6   \n",
       "13   -74.0000  ...               122                  3                 6   \n",
       "14   -73.9596  ...               103                  3                 6   \n",
       "15   -73.9665  ...               104                  2                 5   \n",
       "16   -73.9709  ...               112                  3                 6   \n",
       "17   -73.9860  ...               119                  3                 6   \n",
       "18   -73.9828  ...               125                  3                 6   \n",
       "19   -73.9486  ...                84                  3                 6   \n",
       "\n",
       "   sqrt_price  log_price  high_frac  low_frac  medium_frac  count  \\\n",
       "0   48.989795   7.783224   0.088391  0.730429     0.181180    112   \n",
       "1   61.644140   8.242756   0.088391  0.730429     0.181180     25   \n",
       "2   59.118525   8.159089   0.088391  0.730429     0.181180     90   \n",
       "3   54.772256   8.006368   0.088391  0.730429     0.181180     90   \n",
       "4   52.867760   7.935587   0.088391  0.730429     0.181180     55   \n",
       "5   84.852814   8.881836   0.088391  0.730429     0.181180    168   \n",
       "6   77.459667   8.699515   0.088391  0.730429     0.181180    161   \n",
       "7   44.102154   7.573017   0.088391  0.730429     0.181180    122   \n",
       "8   49.345719   7.797702   0.088391  0.730429     0.181180     35   \n",
       "9   82.764727   8.832004   0.088391  0.730429     0.181180     36   \n",
       "10  52.773099   7.932003   0.088391  0.730429     0.181180     33   \n",
       "11  55.677644   8.039157   0.000000  0.333333     0.666667      6   \n",
       "12  48.989795   7.783224   0.088391  0.730429     0.181180    114   \n",
       "13  52.440442   7.919356   0.088391  0.730429     0.181180     38   \n",
       "14  73.925638   8.606119   0.088391  0.730429     0.181180     39   \n",
       "15  56.124861   8.055158   0.088391  0.730429     0.181180     21   \n",
       "16  61.237244   8.229511   0.083333  0.666667     0.250000     12   \n",
       "17  66.708320   8.400659   1.000000  0.000000     0.000000      1   \n",
       "18  56.568542   8.070906   0.088391  0.730429     0.181180     25   \n",
       "19  49.949975   7.822044   0.000000  1.000000     0.000000      8   \n",
       "\n",
       "    manager_skill  \n",
       "0        0.357962  \n",
       "1        0.357962  \n",
       "2        0.357962  \n",
       "3        0.357962  \n",
       "4        0.357962  \n",
       "5        0.357962  \n",
       "6        0.357962  \n",
       "7        0.357962  \n",
       "8        0.357962  \n",
       "9        0.357962  \n",
       "10       0.357962  \n",
       "11       0.666667  \n",
       "12       0.357962  \n",
       "13       0.357962  \n",
       "14       0.357962  \n",
       "15       0.357962  \n",
       "16       0.416667  \n",
       "17       2.000000  \n",
       "18       0.357962  \n",
       "19       0.000000  \n",
       "\n",
       "[20 rows x 105 columns]"
      ]
     },
     "execution_count": 551,
     "metadata": {},
     "output_type": "execute_result"
    }
   ],
   "source": [
    "# inner join to assign manager features to the managers in the dataframe\n",
    "df = df.merge(man.reset_index(),how='left', left_on='manager_id', right_on='manager_id')\n",
    "df.head(20)"
   ]
  },
  {
   "cell_type": "code",
   "execution_count": 552,
   "metadata": {},
   "outputs": [
    {
     "name": "stdout",
     "output_type": "stream",
     "text": [
      "Validation OOB score 0.7504\n"
     ]
    }
   ],
   "source": [
    "X, y = df.drop(columns = [ 'building_id', 'created', 'description',\n",
    "       'display_address', 'features', 'listing_id','manager_id',\n",
    "        'photos',  'street_address', 'interest_level',\n",
    "       'date_created','date_converted', 'weekday','cleaned_description',\n",
    "        'features_lower', 'geo',\n",
    "       'cleaned_features', 'geolocation', 'county', 'boroughs', 'postal', 'neighborhood']), df['interest_level']\n",
    "rf = RandomForestClassifier(n_estimators=100,\n",
    "                           n_jobs=-1,        # parallelize\n",
    "                           oob_score=True)   # get error estimate\n",
    "rf.fit(X, y)\n",
    "clean_oob_r2 = rf.oob_score_\n",
    "print(f\"Validation OOB score {clean_oob_r2:.4f}\")"
   ]
  },
  {
   "cell_type": "markdown",
   "metadata": {},
   "source": [
    "<a id='section6'></a>"
   ]
  },
  {
   "cell_type": "markdown",
   "metadata": {},
   "source": [
    "## 6. **Interactions**"
   ]
  },
  {
   "cell_type": "markdown",
   "metadata": {},
   "source": [
    "Since we assume that price has a high impact on the interest level, maybe there are some features that interact with price, such as rooms or the location. In the following we created several interactions and features that include 'price'. "
   ]
  },
  {
   "cell_type": "code",
   "execution_count": 526,
   "metadata": {},
   "outputs": [],
   "source": [
    "df[\"price_type\"] = np.log(df[\"price\"])/(df[\"bedrooms\"].astype('int64')+1) \n",
    "df[\"room_sum\"] = df[\"bedrooms\"].astype('int64')+df[\"bathrooms\"].astype('int64') \n",
    "\n",
    "df['price_per_room'] = 0.0\n",
    "for row in df.index:\n",
    "    if df['room_sum'][row] > 0:\n",
    "        df['price_per_room'][row]= (df['price'][row])/(df['room_sum'][row])\n",
    "    else:\n",
    "        pass"
   ]
  },
  {
   "cell_type": "code",
   "execution_count": 527,
   "metadata": {},
   "outputs": [],
   "source": [
    "group = df.groupby('neighborhood').mean()\n",
    "group = group['price']"
   ]
  },
  {
   "cell_type": "code",
   "execution_count": 528,
   "metadata": {},
   "outputs": [],
   "source": [
    "df['avg_price_hood'] = 0.0\n",
    "# integrating average price of neighborhoods to dataframe\n",
    "for row in df['neighborhood'].index:\n",
    "    for hood in group.index:\n",
    "        if df['neighborhood'][row] == hood:\n",
    "            df['avg_price_hood'][row] = group[hood]"
   ]
  },
  {
   "cell_type": "code",
   "execution_count": 529,
   "metadata": {},
   "outputs": [],
   "source": [
    "group = df.groupby('postal').mean()\n",
    "group = group['price']"
   ]
  },
  {
   "cell_type": "code",
   "execution_count": 530,
   "metadata": {},
   "outputs": [],
   "source": [
    "df['avg_price_postal'] = 0.0\n",
    "# integrating average price of neighborhoods to dataframe\n",
    "for row in df['postal'].index:\n",
    "    for hood in group.index:\n",
    "        if df['postal'][row] == hood:\n",
    "            df['avg_price_postal'][row] = group[hood]"
   ]
  },
  {
   "cell_type": "code",
   "execution_count": 531,
   "metadata": {},
   "outputs": [],
   "source": [
    "group = df.groupby('boroughs').mean()\n",
    "group = group['price']"
   ]
  },
  {
   "cell_type": "code",
   "execution_count": 532,
   "metadata": {},
   "outputs": [],
   "source": [
    "df['avg_price_boroughs'] = 0.0\n",
    "# integrating average price of neighborhoods to dataframe\n",
    "for row in df['boroughs'].index:\n",
    "    for hood in group.index:\n",
    "        if df['boroughs'][row] == hood:\n",
    "            df['avg_price_boroughs'][row] = group[hood]"
   ]
  },
  {
   "cell_type": "code",
   "execution_count": 533,
   "metadata": {},
   "outputs": [],
   "source": [
    "group = df.groupby('county').mean()\n",
    "group = group['price']"
   ]
  },
  {
   "cell_type": "code",
   "execution_count": 534,
   "metadata": {},
   "outputs": [],
   "source": [
    "df['avg_price_county'] = 0.0\n",
    "# integrating average price of neighborhoods to dataframe\n",
    "for row in df['county'].index:\n",
    "    for hood in group.index:\n",
    "        if df['county'][row] == hood:\n",
    "            df['avg_price_county'][row] = group[hood]"
   ]
  },
  {
   "cell_type": "markdown",
   "metadata": {},
   "source": [
    "<a id='section7'></a>"
   ]
  },
  {
   "cell_type": "markdown",
   "metadata": {},
   "source": [
    "## 7. **Transforming 'price'**"
   ]
  },
  {
   "cell_type": "markdown",
   "metadata": {},
   "source": [
    "As we've seen the price is right-skewed. Therefore we need to transform the data to normalize it's values. For this we read the article from StatistikGuru: https://statistikguru.de/spss/vorraussetzungen-ueberpruefen/daten-transformieren/bekannte-datentransformationen.html. "
   ]
  },
  {
   "cell_type": "code",
   "execution_count": 602,
   "metadata": {},
   "outputs": [],
   "source": [
    "df['sqrt_price'] = np.sqrt(df['price']) "
   ]
  },
  {
   "cell_type": "code",
   "execution_count": 603,
   "metadata": {},
   "outputs": [],
   "source": [
    "df['log_price']= np.log(df['price'])"
   ]
  },
  {
   "cell_type": "code",
   "execution_count": 607,
   "metadata": {},
   "outputs": [
    {
     "data": {
      "image/png": "[encoded data removed]",
      "text/plain": [
       "<Figure size 576x432 with 1 Axes>"
      ]
     },
     "metadata": {
      "needs_background": "light"
     },
     "output_type": "display_data"
    }
   ],
   "source": [
    "plt.figure(figsize=(8,6))\n",
    "sns.distplot(df.sqrt_price.values, bins=50, kde=True)\n",
    "plt.xlabel('sqrt_price', fontsize=12)\n",
    "plt.title('Distribution of the squareroot of the price')\n",
    "plt.show()"
   ]
  },
  {
   "cell_type": "code",
   "execution_count": 606,
   "metadata": {},
   "outputs": [
    {
     "data": {
      "image/png": "[encoded data removed]",
      "text/plain": [
       "<Figure size 576x432 with 1 Axes>"
      ]
     },
     "metadata": {
      "needs_background": "light"
     },
     "output_type": "display_data"
    }
   ],
   "source": [
    "plt.figure(figsize=(8,6))\n",
    "sns.distplot(df.log_price.values, bins=50, kde=True)\n",
    "plt.xlabel('log_price', fontsize=12)\n",
    "plt.title('Distribution of logarithmic price')\n",
    "plt.show()"
   ]
  },
  {
   "cell_type": "code",
   "execution_count": 538,
   "metadata": {},
   "outputs": [
    {
     "name": "stdout",
     "output_type": "stream",
     "text": [
      "Skewness:  1.5014324068868452\n",
      "Kurtosis:  3.3470467113461564\n"
     ]
    }
   ],
   "source": [
    "print(\"Skewness: \" , sqrt.skew())\n",
    "print(\"Kurtosis: \" , sqrt.kurt())"
   ]
  },
  {
   "cell_type": "code",
   "execution_count": 539,
   "metadata": {},
   "outputs": [
    {
     "name": "stdout",
     "output_type": "stream",
     "text": [
      "Skewness:  0.6933924223557091\n",
      "Kurtosis:  0.855952673549949\n"
     ]
    }
   ],
   "source": [
    "print(\"Skewness: \" , log.skew())\n",
    "print(\"Kurtosis: \" , log.kurt())"
   ]
  },
  {
   "cell_type": "markdown",
   "metadata": {},
   "source": [
    "We can now see that the logarithmic price is closer to the normal distribution. Maybe we should consider that price."
   ]
  },
  {
   "cell_type": "code",
   "execution_count": 540,
   "metadata": {},
   "outputs": [
    {
     "name": "stdout",
     "output_type": "stream",
     "text": [
      "Validation OOB score 0.7347\n"
     ]
    }
   ],
   "source": [
    "X, y = df.drop(columns = [ 'building_id', 'created', 'description',\n",
    "       'display_address', 'features', 'listing_id','manager_id',\n",
    "        'photos',  'street_address', 'interest_level',\n",
    "       'date_created','date_converted', 'weekday','cleaned_description',\n",
    "        'features_lower', 'geo',\n",
    "       'cleaned_features', 'geolocation', 'county', 'boroughs', 'postal', 'neighborhood']), df['interest_level']\n",
    "rf = RandomForestClassifier(n_estimators=100,\n",
    "                           n_jobs=-1,        # parallelize\n",
    "                           oob_score=True)   # get error estimate\n",
    "rf.fit(X, y)\n",
    "clean_oob_r2 = rf.oob_score_\n",
    "print(f\"Validation OOB score {clean_oob_r2:.4f}\")"
   ]
  },
  {
   "cell_type": "markdown",
   "metadata": {},
   "source": [
    "<a id='section8'></a>"
   ]
  },
  {
   "cell_type": "markdown",
   "metadata": {},
   "source": [
    "## 8. **Finalizing the data and preparation for modeling**"
   ]
  },
  {
   "cell_type": "markdown",
   "metadata": {},
   "source": [
    "For now we were only able to use numerical data, but let us transform also our categorical features so that the model can read them in."
   ]
  },
  {
   "cell_type": "code",
   "execution_count": 17,
   "metadata": {},
   "outputs": [
    {
     "data": {
      "text/plain": [
       "Index(['bathrooms', 'bedrooms', 'manager_id', 'interest_level', 'high_priced',\n",
       "       'date_created', 'date_converted', 'weekday', 'hour_created', 'month',\n",
       "       'dayofmonth', 'num_redacted', 'room_sum', 'phone', 'email',\n",
       "       'neighborhood', 'postal', 'boroughs', 'county', 'geo', 'subway', 'park',\n",
       "       'latitude', 'longitude', 'price', 'num_photos', 'num_features',\n",
       "       'num_description', 'len_cleaned_description', 'similarity_address',\n",
       "       'dining_room', 'pre_war', 'laundry_in_building', 'dishwasher',\n",
       "       'hardwood_floors', 'dogs_allowed', 'cats_allowed', 'doorman',\n",
       "       'elevator', 'no_fee', 'laundry_in_unit', 'fitness_center', 'loft',\n",
       "       'fireplace', 'roof_deck', 'high_speed_internet', 'swimming_pool',\n",
       "       'wheelchair_access', 'reduced_fee', 'common_outdoor_space',\n",
       "       'parking_space', 'balcony', 'private_outdoor_space', 'publicoutdoor',\n",
       "       'garage', 'garden', 'patio', 'new_construction', 'furnished',\n",
       "       'exclusive', 'terrace', 'outdoor_space', 'live', 'site_laundry',\n",
       "       'prewar', 'lowrise', 'simplex', 'hardwood', 'washer', 'pool', 'storage',\n",
       "       'laundry', 'multi_level', 'high_ceilings', 'high_ceiling',\n",
       "       'laundry_room', 'renovated', 'dryer_in_unit', 'live_in_super',\n",
       "       'green_building', 'price_type', 'price_per_room', 'avg_price_hood',\n",
       "       'avg_price_postal', 'avg_price_boroughs', 'avg_price_county',\n",
       "       'high_frac', 'low_frac', 'medium_frac', 'manager_skill', 'log_price',\n",
       "       'sqrt_price'],\n",
       "      dtype='object')"
      ]
     },
     "execution_count": 17,
     "metadata": {},
     "output_type": "execute_result"
    }
   ],
   "source": [
    "df.columns"
   ]
  },
  {
   "cell_type": "code",
   "execution_count": 18,
   "metadata": {},
   "outputs": [],
   "source": [
    "cat = ['bathrooms', 'bedrooms', 'manager_id', 'interest_level', 'high_priced',\n",
    "       'date_created', 'date_converted', 'weekday', 'hour_created', 'month',\n",
    "       'dayofmonth', 'num_redacted', 'room_sum', 'phone', 'email',\n",
    "       'neighborhood', 'postal', 'boroughs', 'county', 'subway', 'park','geo', \n",
    "       ]\n"
   ]
  },
  {
   "cell_type": "code",
   "execution_count": 19,
   "metadata": {},
   "outputs": [],
   "source": [
    "from sklearn.preprocessing import LabelEncoder # tranform categorical variables \n",
    "labelencoder = LabelEncoder()\n",
    "\n",
    "    \n",
    "# Encode labels of multiple columns at once\n",
    "df[cat] = df[cat].apply(labelencoder.fit_transform)"
   ]
  },
  {
   "cell_type": "code",
   "execution_count": 20,
   "metadata": {},
   "outputs": [],
   "source": [
    "nums = ['latitude', 'longitude', 'price', 'num_photos', 'num_features',\n",
    "       'num_description', 'len_cleaned_description', 'similarity_address',\n",
    "       'dining_room', 'pre_war', 'laundry_in_building', 'dishwasher',\n",
    "       'hardwood_floors', 'dogs_allowed', 'cats_allowed', 'doorman',\n",
    "       'elevator', 'no_fee', 'laundry_in_unit', 'fitness_center', 'loft',\n",
    "       'fireplace', 'roof_deck', 'high_speed_internet', 'swimming_pool',\n",
    "       'wheelchair_access', 'reduced_fee', 'common_outdoor_space',\n",
    "       'parking_space', 'balcony', 'private_outdoor_space', 'publicoutdoor',\n",
    "       'garage', 'garden', 'patio', 'new_construction', 'furnished',\n",
    "       'exclusive', 'terrace', 'outdoor_space', 'live', 'site_laundry',\n",
    "       'prewar', 'lowrise', 'simplex', 'hardwood', 'washer', 'pool', 'storage',\n",
    "       'laundry', 'multi_level', 'high_ceilings', 'high_ceiling',\n",
    "       'laundry_room', 'renovated', 'dryer_in_unit', 'live_in_super',\n",
    "       'green_building', 'price_type', 'price_per_room', 'avg_price_hood',\n",
    "       'avg_price_postal', 'avg_price_boroughs', 'avg_price_county',\n",
    "       'high_frac', 'low_frac', 'medium_frac', 'manager_skill', 'log_price',\n",
    "       'sqrt_price']\n",
    "\n"
   ]
  },
  {
   "cell_type": "markdown",
   "metadata": {},
   "source": [
    "Standardization is necessary for numerical data since our model assumes that the train data is normally distributed but if it is not, we risk biasing our model. We need to check the variance and if it is high, standardization is important."
   ]
  },
  {
   "cell_type": "code",
   "execution_count": 21,
   "metadata": {},
   "outputs": [],
   "source": [
    "from sklearn.preprocessing import StandardScaler\n",
    "scaler = StandardScaler()\n",
    "nums_scaled = pd.DataFrame(scaler.fit_transform(df[nums]), columns=df[nums].columns)"
   ]
  },
  {
   "cell_type": "code",
   "execution_count": 22,
   "metadata": {},
   "outputs": [],
   "source": [
    "df_final = pd.concat([df[cat],nums_scaled], axis = 1) #concatenate again"
   ]
  },
  {
   "cell_type": "code",
   "execution_count": 23,
   "metadata": {},
   "outputs": [
    {
     "name": "stdout",
     "output_type": "stream",
     "text": [
      "bathrooms         8.514965e-01\n",
      "bedrooms          1.243837e+00\n",
      "manager_id        1.007807e+06\n",
      "interest_level    2.830380e-01\n",
      "high_priced       9.669828e-03\n",
      "                      ...     \n",
      "low_frac          1.000020e+00\n",
      "medium_frac       1.000020e+00\n",
      "manager_skill     1.000020e+00\n",
      "log_price         1.000020e+00\n",
      "sqrt_price        1.000020e+00\n",
      "Length: 92, dtype: float64\n"
     ]
    }
   ],
   "source": [
    "#Check variance\n",
    "\n",
    "print(df_final.var())"
   ]
  },
  {
   "cell_type": "code",
   "execution_count": 24,
   "metadata": {},
   "outputs": [],
   "source": [
    "df_final = pd.concat([df[cat],nums_scaled], axis = 1) #concatenate again"
   ]
  },
  {
   "cell_type": "markdown",
   "metadata": {},
   "source": [
    "Throughout the engineering we could see that the OOB score is steadily increasing as seen below. We have now prepared our data to use for the modeling and therefore need to save it. "
   ]
  },
  {
   "cell_type": "code",
   "execution_count": 25,
   "metadata": {},
   "outputs": [
    {
     "name": "stdout",
     "output_type": "stream",
     "text": [
      "Validation OOB score 0.7513\n"
     ]
    }
   ],
   "source": [
    "X, y = df_final.drop(columns = [ 'interest_level']), df_final['interest_level']\n",
    "rf = RandomForestClassifier(n_estimators=100,\n",
    "                           n_jobs=-1,        # parallelize\n",
    "                           oob_score=True)   # get error estimate\n",
    "rf.fit(X, y)\n",
    "clean_oob_r2 = rf.oob_score_\n",
    "print(f\"Validation OOB score {clean_oob_r2:.4f}\")"
   ]
  },
  {
   "cell_type": "code",
   "execution_count": null,
   "metadata": {},
   "outputs": [],
   "source": [
    "#df_final.to_json('feature_engineering.json')"
   ]
  }
 ],
 "metadata": {
  "kernelspec": {
   "display_name": "Python 3",
   "language": "python",
   "name": "python3"
  },
  "language_info": {
   "codemirror_mode": {
    "name": "ipython",
    "version": 3
   },
   "file_extension": ".py",
   "mimetype": "text/x-python",
   "name": "python",
   "nbconvert_exporter": "python",
   "pygments_lexer": "ipython3",
   "version": "3.8.3"
  }
 },
 "nbformat": 4,
 "nbformat_minor": 4
}
